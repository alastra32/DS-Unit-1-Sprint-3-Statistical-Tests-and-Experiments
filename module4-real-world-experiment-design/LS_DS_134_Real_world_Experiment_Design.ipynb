{
  "nbformat": 4,
  "nbformat_minor": 0,
  "metadata": {
    "colab": {
      "name": "LS_DS_144_Real_world_Experiment_Design.ipynb",
      "version": "0.3.2",
      "provenance": [],
      "include_colab_link": true
    },
    "kernelspec": {
      "name": "python3",
      "display_name": "Python 3"
    }
  },
  "cells": [
    {
      "cell_type": "markdown",
      "metadata": {
        "id": "view-in-github",
        "colab_type": "text"
      },
      "source": [
        "<a href=\"https://colab.research.google.com/github/alastra32/DS-Unit-1-Sprint-3-Statistical-Tests-and-Experiments/blob/master/module4-real-world-experiment-design/LS_DS_134_Real_world_Experiment_Design.ipynb\" target=\"_parent\"><img src=\"https://colab.research.google.com/assets/colab-badge.svg\" alt=\"Open In Colab\"/></a>"
      ]
    },
    {
      "cell_type": "markdown",
      "metadata": {
        "id": "meHdbCmyxDKn",
        "colab_type": "text"
      },
      "source": [
        "# Lambda School Data Science Module 144\n",
        "## Real-world Experiment Design\n",
        "\n",
        "![Induction experiment](https://upload.wikimedia.org/wikipedia/commons/1/1c/Induction_experiment.png)\n",
        "\n",
        "[Induction experiment, Wikipedia](https://commons.wikimedia.org/wiki/File:Induction_experiment.png)"
      ]
    },
    {
      "cell_type": "markdown",
      "metadata": {
        "id": "LayAf_2GxCKc",
        "colab_type": "text"
      },
      "source": [
        "## Prepare - Learn about JavaScript and Google Analytics"
      ]
    },
    {
      "cell_type": "markdown",
      "metadata": {
        "id": "tn7eCITsx5HB",
        "colab_type": "text"
      },
      "source": [
        "Python is great - but with web applications, it's impossible to avoid JavaScript. The lingua franca of the web, JavaScript runs in all browsers, and thus all front-end code must either be JS or transpiled to it. As a data scientist you don't have to learn JavaScript - but you do have to be aware of it, and being able to figure out snippets of it is an invaluable skill to connect your skills with real-world applications.\n",
        "\n",
        "So, we leave the warm comfort of Python, and venture to a bigger world - check out the [LambdaSchool/AB-Demo repo](https://github.com/LambdaSchool/AB-Demo) and [live experiment](https://lambdaschool.github.io/AB-Demo/) before class.\n",
        "\n",
        "Additionally, sign up for [Google Analytics](https://www.google.com/analytics) - if you're not sure on the steps or what \"property\" to give it, you can put a placeholder or wait until the live lecture. Google also has [Analytics documentation](https://support.google.com/analytics/) that is worth a look.\n",
        "\n",
        "Note - if you use any of the various tracker blocking techniques, it's quite likely you won't show up in Google Analytics. You'll have to disable them to be able to fully test your experiment."
      ]
    },
    {
      "cell_type": "markdown",
      "metadata": {
        "id": "RmQDF8OlxEey",
        "colab_type": "text"
      },
      "source": [
        "## Live Lecture - Using Google Analytics with a live A/B test"
      ]
    },
    {
      "cell_type": "markdown",
      "metadata": {
        "id": "C-uO6iZQCT2l",
        "colab_type": "text"
      },
      "source": [
        "Again we won't do much Python here, but we'll put a few notes and results in the notebook as we go."
      ]
    },
    {
      "cell_type": "code",
      "metadata": {
        "id": "EqeZAjjSXiuE",
        "colab_type": "code",
        "outputId": "73f619db-8efa-4c6c-e849-c7e21d2525f8",
        "colab": {
          "base_uri": "https://localhost:8080/",
          "height": 215
        }
      },
      "source": [
        "import pandas as pd\n",
        "\n",
        "df= pd.read_csv('Kevin_Hillstrom_MineThatData_E-MailAnalytics_DataMiningChallenge_2008.03.20.csv')\n",
        "print(df.shape)\n",
        "df.head()"
      ],
      "execution_count": 0,
      "outputs": [
        {
          "output_type": "stream",
          "text": [
            "(64000, 12)\n"
          ],
          "name": "stdout"
        },
        {
          "output_type": "execute_result",
          "data": {
            "text/html": [
              "<div>\n",
              "<style scoped>\n",
              "    .dataframe tbody tr th:only-of-type {\n",
              "        vertical-align: middle;\n",
              "    }\n",
              "\n",
              "    .dataframe tbody tr th {\n",
              "        vertical-align: top;\n",
              "    }\n",
              "\n",
              "    .dataframe thead th {\n",
              "        text-align: right;\n",
              "    }\n",
              "</style>\n",
              "<table border=\"1\" class=\"dataframe\">\n",
              "  <thead>\n",
              "    <tr style=\"text-align: right;\">\n",
              "      <th></th>\n",
              "      <th>recency</th>\n",
              "      <th>history_segment</th>\n",
              "      <th>history</th>\n",
              "      <th>mens</th>\n",
              "      <th>womens</th>\n",
              "      <th>zip_code</th>\n",
              "      <th>newbie</th>\n",
              "      <th>channel</th>\n",
              "      <th>segment</th>\n",
              "      <th>visit</th>\n",
              "      <th>conversion</th>\n",
              "      <th>spend</th>\n",
              "    </tr>\n",
              "  </thead>\n",
              "  <tbody>\n",
              "    <tr>\n",
              "      <th>0</th>\n",
              "      <td>10</td>\n",
              "      <td>2) $100 - $200</td>\n",
              "      <td>142.44</td>\n",
              "      <td>1</td>\n",
              "      <td>0</td>\n",
              "      <td>Surburban</td>\n",
              "      <td>0</td>\n",
              "      <td>Phone</td>\n",
              "      <td>Womens E-Mail</td>\n",
              "      <td>0</td>\n",
              "      <td>0</td>\n",
              "      <td>0.0</td>\n",
              "    </tr>\n",
              "    <tr>\n",
              "      <th>1</th>\n",
              "      <td>6</td>\n",
              "      <td>3) $200 - $350</td>\n",
              "      <td>329.08</td>\n",
              "      <td>1</td>\n",
              "      <td>1</td>\n",
              "      <td>Rural</td>\n",
              "      <td>1</td>\n",
              "      <td>Web</td>\n",
              "      <td>No E-Mail</td>\n",
              "      <td>0</td>\n",
              "      <td>0</td>\n",
              "      <td>0.0</td>\n",
              "    </tr>\n",
              "    <tr>\n",
              "      <th>2</th>\n",
              "      <td>7</td>\n",
              "      <td>2) $100 - $200</td>\n",
              "      <td>180.65</td>\n",
              "      <td>0</td>\n",
              "      <td>1</td>\n",
              "      <td>Surburban</td>\n",
              "      <td>1</td>\n",
              "      <td>Web</td>\n",
              "      <td>Womens E-Mail</td>\n",
              "      <td>0</td>\n",
              "      <td>0</td>\n",
              "      <td>0.0</td>\n",
              "    </tr>\n",
              "    <tr>\n",
              "      <th>3</th>\n",
              "      <td>9</td>\n",
              "      <td>5) $500 - $750</td>\n",
              "      <td>675.83</td>\n",
              "      <td>1</td>\n",
              "      <td>0</td>\n",
              "      <td>Rural</td>\n",
              "      <td>1</td>\n",
              "      <td>Web</td>\n",
              "      <td>Mens E-Mail</td>\n",
              "      <td>0</td>\n",
              "      <td>0</td>\n",
              "      <td>0.0</td>\n",
              "    </tr>\n",
              "    <tr>\n",
              "      <th>4</th>\n",
              "      <td>2</td>\n",
              "      <td>1) $0 - $100</td>\n",
              "      <td>45.34</td>\n",
              "      <td>1</td>\n",
              "      <td>0</td>\n",
              "      <td>Urban</td>\n",
              "      <td>0</td>\n",
              "      <td>Web</td>\n",
              "      <td>Womens E-Mail</td>\n",
              "      <td>0</td>\n",
              "      <td>0</td>\n",
              "      <td>0.0</td>\n",
              "    </tr>\n",
              "  </tbody>\n",
              "</table>\n",
              "</div>"
            ],
            "text/plain": [
              "   recency history_segment  history  ...  visit  conversion spend\n",
              "0       10  2) $100 - $200   142.44  ...      0           0   0.0\n",
              "1        6  3) $200 - $350   329.08  ...      0           0   0.0\n",
              "2        7  2) $100 - $200   180.65  ...      0           0   0.0\n",
              "3        9  5) $500 - $750   675.83  ...      0           0   0.0\n",
              "4        2    1) $0 - $100    45.34  ...      0           0   0.0\n",
              "\n",
              "[5 rows x 12 columns]"
            ]
          },
          "metadata": {
            "tags": []
          },
          "execution_count": 4
        }
      ]
    },
    {
      "cell_type": "code",
      "metadata": {
        "id": "c1lMHLK-YHzR",
        "colab_type": "code",
        "outputId": "8674fc96-3d7b-467a-dc93-e1fed56c1b92",
        "colab": {
          "base_uri": "https://localhost:8080/",
          "height": 247
        }
      },
      "source": [
        "df.isna().sum()"
      ],
      "execution_count": 0,
      "outputs": [
        {
          "output_type": "execute_result",
          "data": {
            "text/plain": [
              "recency            0\n",
              "history_segment    0\n",
              "history            0\n",
              "mens               0\n",
              "womens             0\n",
              "zip_code           0\n",
              "newbie             0\n",
              "channel            0\n",
              "segment            0\n",
              "visit              0\n",
              "conversion         0\n",
              "spend              0\n",
              "dtype: int64"
            ]
          },
          "metadata": {
            "tags": []
          },
          "execution_count": 6
        }
      ]
    },
    {
      "cell_type": "code",
      "metadata": {
        "id": "bvTl8FU2YTNW",
        "colab_type": "code",
        "outputId": "256b4df6-b4f4-441f-cf1d-790cf1fceabb",
        "colab": {
          "base_uri": "https://localhost:8080/",
          "height": 87
        }
      },
      "source": [
        "df.segment.value_counts()"
      ],
      "execution_count": 0,
      "outputs": [
        {
          "output_type": "execute_result",
          "data": {
            "text/plain": [
              "Womens E-Mail    21387\n",
              "Mens E-Mail      21307\n",
              "No E-Mail        21306\n",
              "Name: segment, dtype: int64"
            ]
          },
          "metadata": {
            "tags": []
          },
          "execution_count": 7
        }
      ]
    },
    {
      "cell_type": "code",
      "metadata": {
        "id": "TKlEdv-OYl8C",
        "colab_type": "code",
        "outputId": "17e90a66-2834-4634-942a-bb258ae4eb56",
        "colab": {
          "base_uri": "https://localhost:8080/",
          "height": 158
        }
      },
      "source": [
        "df.history_segment.value_counts()"
      ],
      "execution_count": 0,
      "outputs": [
        {
          "output_type": "execute_result",
          "data": {
            "text/plain": [
              "1) $0 - $100        22970\n",
              "2) $100 - $200      14254\n",
              "3) $200 - $350      12289\n",
              "4) $350 - $500       6409\n",
              "5) $500 - $750       4911\n",
              "6) $750 - $1,000     1859\n",
              "7) $1,000 +          1308\n",
              "Name: history_segment, dtype: int64"
            ]
          },
          "metadata": {
            "tags": []
          },
          "execution_count": 9
        }
      ]
    },
    {
      "cell_type": "code",
      "metadata": {
        "id": "rIaKe1VsYrkS",
        "colab_type": "code",
        "outputId": "193ce37c-049a-465c-a153-725474995547",
        "colab": {
          "base_uri": "https://localhost:8080/",
          "height": 105
        }
      },
      "source": [
        "df.groupby('segment').visit.mean()*100"
      ],
      "execution_count": 0,
      "outputs": [
        {
          "output_type": "execute_result",
          "data": {
            "text/plain": [
              "segment\n",
              "Mens E-Mail      18.275684\n",
              "No E-Mail        10.616728\n",
              "Womens E-Mail    15.140038\n",
              "Name: visit, dtype: float64"
            ]
          },
          "metadata": {
            "tags": []
          },
          "execution_count": 15
        }
      ]
    },
    {
      "cell_type": "code",
      "metadata": {
        "id": "TElOcQ_MYWxm",
        "colab_type": "code",
        "outputId": "ad0e0fe7-98de-44e4-94ea-ab65f13a82a3",
        "colab": {
          "base_uri": "https://localhost:8080/",
          "height": 105
        }
      },
      "source": [
        "df.groupby('segment').conversion.mean()*100"
      ],
      "execution_count": 0,
      "outputs": [
        {
          "output_type": "execute_result",
          "data": {
            "text/plain": [
              "segment\n",
              "Mens E-Mail      1.253109\n",
              "No E-Mail        0.572609\n",
              "Womens E-Mail    0.883714\n",
              "Name: conversion, dtype: float64"
            ]
          },
          "metadata": {
            "tags": []
          },
          "execution_count": 14
        }
      ]
    },
    {
      "cell_type": "code",
      "metadata": {
        "id": "1LqAR8PjZdHf",
        "colab_type": "code",
        "outputId": "03c40e2c-efe3-41f2-e138-150a88e84a1e",
        "colab": {
          "base_uri": "https://localhost:8080/",
          "height": 105
        }
      },
      "source": [
        "df.groupby('segment').spend.mean()*100"
      ],
      "execution_count": 0,
      "outputs": [
        {
          "output_type": "execute_result",
          "data": {
            "text/plain": [
              "segment\n",
              "Mens E-Mail      142.261651\n",
              "No E-Mail         65.278936\n",
              "Womens E-Mail    107.720157\n",
              "Name: spend, dtype: float64"
            ]
          },
          "metadata": {
            "tags": []
          },
          "execution_count": 16
        }
      ]
    },
    {
      "cell_type": "code",
      "metadata": {
        "id": "bT_GSdqoaak6",
        "colab_type": "code",
        "outputId": "621cab65-c2c8-46ac-ba31-f26f86c6f98a",
        "colab": {
          "base_uri": "https://localhost:8080/",
          "height": 286
        }
      },
      "source": [
        "df"
      ],
      "execution_count": 0,
      "outputs": [
        {
          "output_type": "execute_result",
          "data": {
            "text/plain": [
              "<matplotlib.axes._subplots.AxesSubplot at 0x7f9a620be198>"
            ]
          },
          "metadata": {
            "tags": []
          },
          "execution_count": 21
        },
        {
          "output_type": "display_data",
          "data": {
            "image/png": "[encoded data removed]",
            "text/plain": [
              "<Figure size 432x288 with 1 Axes>"
            ]
          },
          "metadata": {
            "tags": []
          }
        }
      ]
    },
    {
      "cell_type": "code",
      "metadata": {
        "id": "uvc0Dgt9Zmd1",
        "colab_type": "code",
        "outputId": "5c877597-8d13-4d9c-b57a-b657bac38030",
        "colab": {
          "base_uri": "https://localhost:8080/",
          "height": 197
        }
      },
      "source": [
        "df['spend_bins']=pd.cut(df['spend'],[-0.01,100,200,300,400,500])\n",
        "df.head()"
      ],
      "execution_count": 0,
      "outputs": [
        {
          "output_type": "execute_result",
          "data": {
            "text/html": [
              "<div>\n",
              "<style scoped>\n",
              "    .dataframe tbody tr th:only-of-type {\n",
              "        vertical-align: middle;\n",
              "    }\n",
              "\n",
              "    .dataframe tbody tr th {\n",
              "        vertical-align: top;\n",
              "    }\n",
              "\n",
              "    .dataframe thead th {\n",
              "        text-align: right;\n",
              "    }\n",
              "</style>\n",
              "<table border=\"1\" class=\"dataframe\">\n",
              "  <thead>\n",
              "    <tr style=\"text-align: right;\">\n",
              "      <th></th>\n",
              "      <th>recency</th>\n",
              "      <th>history_segment</th>\n",
              "      <th>history</th>\n",
              "      <th>mens</th>\n",
              "      <th>womens</th>\n",
              "      <th>zip_code</th>\n",
              "      <th>newbie</th>\n",
              "      <th>channel</th>\n",
              "      <th>segment</th>\n",
              "      <th>visit</th>\n",
              "      <th>conversion</th>\n",
              "      <th>spend</th>\n",
              "      <th>spend_bins</th>\n",
              "    </tr>\n",
              "  </thead>\n",
              "  <tbody>\n",
              "    <tr>\n",
              "      <th>0</th>\n",
              "      <td>10</td>\n",
              "      <td>2) $100 - $200</td>\n",
              "      <td>142.44</td>\n",
              "      <td>1</td>\n",
              "      <td>0</td>\n",
              "      <td>Surburban</td>\n",
              "      <td>0</td>\n",
              "      <td>Phone</td>\n",
              "      <td>Womens E-Mail</td>\n",
              "      <td>0</td>\n",
              "      <td>0</td>\n",
              "      <td>0.0</td>\n",
              "      <td>(-0.01, 100.0]</td>\n",
              "    </tr>\n",
              "    <tr>\n",
              "      <th>1</th>\n",
              "      <td>6</td>\n",
              "      <td>3) $200 - $350</td>\n",
              "      <td>329.08</td>\n",
              "      <td>1</td>\n",
              "      <td>1</td>\n",
              "      <td>Rural</td>\n",
              "      <td>1</td>\n",
              "      <td>Web</td>\n",
              "      <td>No E-Mail</td>\n",
              "      <td>0</td>\n",
              "      <td>0</td>\n",
              "      <td>0.0</td>\n",
              "      <td>(-0.01, 100.0]</td>\n",
              "    </tr>\n",
              "    <tr>\n",
              "      <th>2</th>\n",
              "      <td>7</td>\n",
              "      <td>2) $100 - $200</td>\n",
              "      <td>180.65</td>\n",
              "      <td>0</td>\n",
              "      <td>1</td>\n",
              "      <td>Surburban</td>\n",
              "      <td>1</td>\n",
              "      <td>Web</td>\n",
              "      <td>Womens E-Mail</td>\n",
              "      <td>0</td>\n",
              "      <td>0</td>\n",
              "      <td>0.0</td>\n",
              "      <td>(-0.01, 100.0]</td>\n",
              "    </tr>\n",
              "    <tr>\n",
              "      <th>3</th>\n",
              "      <td>9</td>\n",
              "      <td>5) $500 - $750</td>\n",
              "      <td>675.83</td>\n",
              "      <td>1</td>\n",
              "      <td>0</td>\n",
              "      <td>Rural</td>\n",
              "      <td>1</td>\n",
              "      <td>Web</td>\n",
              "      <td>Mens E-Mail</td>\n",
              "      <td>0</td>\n",
              "      <td>0</td>\n",
              "      <td>0.0</td>\n",
              "      <td>(-0.01, 100.0]</td>\n",
              "    </tr>\n",
              "    <tr>\n",
              "      <th>4</th>\n",
              "      <td>2</td>\n",
              "      <td>1) $0 - $100</td>\n",
              "      <td>45.34</td>\n",
              "      <td>1</td>\n",
              "      <td>0</td>\n",
              "      <td>Urban</td>\n",
              "      <td>0</td>\n",
              "      <td>Web</td>\n",
              "      <td>Womens E-Mail</td>\n",
              "      <td>0</td>\n",
              "      <td>0</td>\n",
              "      <td>0.0</td>\n",
              "      <td>(-0.01, 100.0]</td>\n",
              "    </tr>\n",
              "  </tbody>\n",
              "</table>\n",
              "</div>"
            ],
            "text/plain": [
              "   recency history_segment  history  ...  conversion  spend      spend_bins\n",
              "0       10  2) $100 - $200   142.44  ...           0    0.0  (-0.01, 100.0]\n",
              "1        6  3) $200 - $350   329.08  ...           0    0.0  (-0.01, 100.0]\n",
              "2        7  2) $100 - $200   180.65  ...           0    0.0  (-0.01, 100.0]\n",
              "3        9  5) $500 - $750   675.83  ...           0    0.0  (-0.01, 100.0]\n",
              "4        2    1) $0 - $100    45.34  ...           0    0.0  (-0.01, 100.0]\n",
              "\n",
              "[5 rows x 13 columns]"
            ]
          },
          "metadata": {
            "tags": []
          },
          "execution_count": 25
        }
      ]
    },
    {
      "cell_type": "code",
      "metadata": {
        "id": "FDa-zoy1aHNX",
        "colab_type": "code",
        "outputId": "dd99078a-d095-412a-c314-55668f4fc0f7",
        "colab": {
          "base_uri": "https://localhost:8080/",
          "height": 227
        }
      },
      "source": [
        "pd.crosstab(df['spend_bins'],df['conversion'] ,normalize='columns')"
      ],
      "execution_count": 0,
      "outputs": [
        {
          "output_type": "execute_result",
          "data": {
            "text/html": [
              "<div>\n",
              "<style scoped>\n",
              "    .dataframe tbody tr th:only-of-type {\n",
              "        vertical-align: middle;\n",
              "    }\n",
              "\n",
              "    .dataframe tbody tr th {\n",
              "        vertical-align: top;\n",
              "    }\n",
              "\n",
              "    .dataframe thead th {\n",
              "        text-align: right;\n",
              "    }\n",
              "</style>\n",
              "<table border=\"1\" class=\"dataframe\">\n",
              "  <thead>\n",
              "    <tr style=\"text-align: right;\">\n",
              "      <th>conversion</th>\n",
              "      <th>0</th>\n",
              "      <th>1</th>\n",
              "    </tr>\n",
              "    <tr>\n",
              "      <th>spend_bins</th>\n",
              "      <th></th>\n",
              "      <th></th>\n",
              "    </tr>\n",
              "  </thead>\n",
              "  <tbody>\n",
              "    <tr>\n",
              "      <th>(-0.01, 100.0]</th>\n",
              "      <td>1.0</td>\n",
              "      <td>0.595156</td>\n",
              "    </tr>\n",
              "    <tr>\n",
              "      <th>(100.0, 200.0]</th>\n",
              "      <td>0.0</td>\n",
              "      <td>0.243945</td>\n",
              "    </tr>\n",
              "    <tr>\n",
              "      <th>(200.0, 300.0]</th>\n",
              "      <td>0.0</td>\n",
              "      <td>0.081315</td>\n",
              "    </tr>\n",
              "    <tr>\n",
              "      <th>(300.0, 400.0]</th>\n",
              "      <td>0.0</td>\n",
              "      <td>0.046713</td>\n",
              "    </tr>\n",
              "    <tr>\n",
              "      <th>(400.0, 500.0]</th>\n",
              "      <td>0.0</td>\n",
              "      <td>0.032872</td>\n",
              "    </tr>\n",
              "  </tbody>\n",
              "</table>\n",
              "</div>"
            ],
            "text/plain": [
              "conversion        0         1\n",
              "spend_bins                   \n",
              "(-0.01, 100.0]  1.0  0.595156\n",
              "(100.0, 200.0]  0.0  0.243945\n",
              "(200.0, 300.0]  0.0  0.081315\n",
              "(300.0, 400.0]  0.0  0.046713\n",
              "(400.0, 500.0]  0.0  0.032872"
            ]
          },
          "metadata": {
            "tags": []
          },
          "execution_count": 29
        }
      ]
    },
    {
      "cell_type": "code",
      "metadata": {
        "id": "-CO5Xv2bbZna",
        "colab_type": "code",
        "outputId": "600e13c1-e36c-4101-e850-8c2e6f49be8b",
        "colab": {
          "base_uri": "https://localhost:8080/",
          "height": 227
        }
      },
      "source": [
        "pd.crosstab(df['segment'], [df['visit'], df['conversion'], df['spend_bins']])\n"
      ],
      "execution_count": 0,
      "outputs": [
        {
          "output_type": "execute_result",
          "data": {
            "text/html": [
              "<div>\n",
              "<style scoped>\n",
              "    .dataframe tbody tr th:only-of-type {\n",
              "        vertical-align: middle;\n",
              "    }\n",
              "\n",
              "    .dataframe tbody tr th {\n",
              "        vertical-align: top;\n",
              "    }\n",
              "\n",
              "    .dataframe thead tr th {\n",
              "        text-align: left;\n",
              "    }\n",
              "\n",
              "    .dataframe thead tr:last-of-type th {\n",
              "        text-align: right;\n",
              "    }\n",
              "</style>\n",
              "<table border=\"1\" class=\"dataframe\">\n",
              "  <thead>\n",
              "    <tr>\n",
              "      <th>visit</th>\n",
              "      <th>0</th>\n",
              "      <th colspan=\"6\" halign=\"left\">1</th>\n",
              "    </tr>\n",
              "    <tr>\n",
              "      <th>conversion</th>\n",
              "      <th>0</th>\n",
              "      <th>0</th>\n",
              "      <th colspan=\"5\" halign=\"left\">1</th>\n",
              "    </tr>\n",
              "    <tr>\n",
              "      <th>spend_bins</th>\n",
              "      <th>(-0.01, 100.0]</th>\n",
              "      <th>(-0.01, 100.0]</th>\n",
              "      <th>(-0.01, 100.0]</th>\n",
              "      <th>(100.0, 200.0]</th>\n",
              "      <th>(200.0, 300.0]</th>\n",
              "      <th>(300.0, 400.0]</th>\n",
              "      <th>(400.0, 500.0]</th>\n",
              "    </tr>\n",
              "    <tr>\n",
              "      <th>segment</th>\n",
              "      <th></th>\n",
              "      <th></th>\n",
              "      <th></th>\n",
              "      <th></th>\n",
              "      <th></th>\n",
              "      <th></th>\n",
              "      <th></th>\n",
              "    </tr>\n",
              "  </thead>\n",
              "  <tbody>\n",
              "    <tr>\n",
              "      <th>Mens E-Mail</th>\n",
              "      <td>17413</td>\n",
              "      <td>3627</td>\n",
              "      <td>173</td>\n",
              "      <td>48</td>\n",
              "      <td>23</td>\n",
              "      <td>14</td>\n",
              "      <td>9</td>\n",
              "    </tr>\n",
              "    <tr>\n",
              "      <th>No E-Mail</th>\n",
              "      <td>19044</td>\n",
              "      <td>2140</td>\n",
              "      <td>74</td>\n",
              "      <td>31</td>\n",
              "      <td>8</td>\n",
              "      <td>5</td>\n",
              "      <td>4</td>\n",
              "    </tr>\n",
              "    <tr>\n",
              "      <th>Womens E-Mail</th>\n",
              "      <td>18149</td>\n",
              "      <td>3049</td>\n",
              "      <td>97</td>\n",
              "      <td>62</td>\n",
              "      <td>16</td>\n",
              "      <td>8</td>\n",
              "      <td>6</td>\n",
              "    </tr>\n",
              "  </tbody>\n",
              "</table>\n",
              "</div>"
            ],
            "text/plain": [
              "visit                      0              1  ...                              \n",
              "conversion                 0              0  ...              1               \n",
              "spend_bins    (-0.01, 100.0] (-0.01, 100.0]  ... (300.0, 400.0] (400.0, 500.0]\n",
              "segment                                      ...                              \n",
              "Mens E-Mail            17413           3627  ...             14              9\n",
              "No E-Mail              19044           2140  ...              5              4\n",
              "Womens E-Mail          18149           3049  ...              8              6\n",
              "\n",
              "[3 rows x 7 columns]"
            ]
          },
          "metadata": {
            "tags": []
          },
          "execution_count": 30
        }
      ]
    },
    {
      "cell_type": "markdown",
      "metadata": {
        "id": "n0btUZvwxE_T",
        "colab_type": "text"
      },
      "source": [
        "## Assignment - Set up your own A/B test!"
      ]
    },
    {
      "cell_type": "markdown",
      "metadata": {
        "id": "U427Ao84Cfpx",
        "colab_type": "text"
      },
      "source": [
        "For a baseline, a straight fork of the Lambda School repo is OK. Getting that working with your own Analytics profile is already a task. But if you get through that, stretch goals:\n",
        "\n",
        "1. Explore Google Analytics - it's big and changes frequently, but powerful (can track conversions and events, flows, etc.)\n",
        "2. Customize the experiment to be more interesting/different (try colors!)\n",
        "3. Check out the various tools for setting up A/B experiments (e.g. [Optimizely](https://www.optimizely.com/) and [alternatives](https://alternativeto.net/software/optimizely/))\n",
        "4. Try to get enough traffic to actually have more real data (don't spam people, but do share with friends)\n",
        "5. If you do get more traffic, don't just apply a t-test - dig into the results and use both math and writing to describe your findings\n",
        "\n",
        "Additionally, today it is a good idea to go back and review the frequentist hypothesis testing material from the first two modules. And if you feel on top of things - you can use your newfound GitHub Pages and Google Analytics skills to build/iterate a portfolio page, and maybe even instrument it with Analytics!"
      ]
    },
    {
      "cell_type": "markdown",
      "metadata": {
        "id": "PyetVxolu_kp",
        "colab_type": "text"
      },
      "source": [
        "https://alastra32.github.io/AB-Demo/"
      ]
    },
    {
      "cell_type": "markdown",
      "metadata": {
        "id": "R2zgFT0cxBzy",
        "colab_type": "text"
      },
      "source": [
        "## Resources"
      ]
    },
    {
      "cell_type": "markdown",
      "metadata": {
        "id": "QVnoP22VxVyC",
        "colab_type": "text"
      },
      "source": [
        "- [Demo Google Analytics Data](https://support.google.com/analytics/answer/6367342?hl=en) - an Analytics profile you can add to your account with real data from the Google swag store\n",
        "- [Design of Experiment](https://explorable.com/design-of-experiment) - an essay summarizing some of the things to be aware of when designing and running an experiment"
      ]
    }
  ]
}