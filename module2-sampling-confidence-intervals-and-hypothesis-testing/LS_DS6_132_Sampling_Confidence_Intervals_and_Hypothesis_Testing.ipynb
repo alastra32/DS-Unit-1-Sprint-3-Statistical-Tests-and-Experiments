{
  "nbformat": 4,
  "nbformat_minor": 0,
  "metadata": {
    "colab": {
      "name": "LS_DS6_132_Sampling_Confidence_Intervals_and_Hypothesis_Testing.ipynb",
      "version": "0.3.2",
      "provenance": [],
      "collapsed_sections": []
    },
    "kernelspec": {
      "name": "python3",
      "display_name": "Python 3"
    }
  },
  "cells": [
    {
      "cell_type": "markdown",
      "metadata": {
        "id": "838Dmw1kM2LK",
        "colab_type": "text"
      },
      "source": [
        "# Lambda School Data Science Module 132\n",
        "## Sampling, Confidence Intervals, and Hypothesis Testing"
      ]
    },
    {
      "cell_type": "markdown",
      "metadata": {
        "id": "dbcPKIo5M6Ny",
        "colab_type": "text"
      },
      "source": [
        "## Prepare - examine other available hypothesis tests\n",
        "\n",
        "If you had to pick a single hypothesis test in your toolbox, t-test would probably be the best choice - but the good news is you don't have to pick just one! Here's some of the others to be aware of:"
      ]
    },
    {
      "cell_type": "code",
      "metadata": {
        "id": "tlBel8j9M6tB",
        "colab_type": "code",
        "outputId": "4b4d09a8-cc53-41d0-9d21-633bf37d191c",
        "colab": {
          "base_uri": "https://localhost:8080/",
          "height": 185
        }
      },
      "source": [
        "import numpy as np\n",
        "from scipy.stats import chisquare  # One-way chi square test\n",
        "\n",
        "# Chi square can take any crosstab/table and test the independence of rows/cols\n",
        "# The null hypothesis is that the rows/cols are independent -> low chi square\n",
        "# The alternative is that there is a dependence -> high chi square\n",
        "# Be aware! Chi square does *not* tell you direction/causation\n",
        "\n",
        "ind_obs = np.array([[1, 1], [2, 2]]).T\n",
        "print(ind_obs)\n",
        "print(chisquare(ind_obs, axis=None))\n",
        "\n",
        "dep_obs = np.array([[16, 18, 16, 14, 12, 12], [32, 24, 16, 28, 20, 24]]).T\n",
        "print(dep_obs)\n",
        "print(chisquare(dep_obs, axis=None))"
      ],
      "execution_count": 0,
      "outputs": [
        {
          "output_type": "stream",
          "text": [
            "[[1 2]\n",
            " [1 2]]\n",
            "Power_divergenceResult(statistic=0.6666666666666666, pvalue=0.8810148425137847)\n",
            "[[16 32]\n",
            " [18 24]\n",
            " [16 16]\n",
            " [14 28]\n",
            " [12 20]\n",
            " [12 24]]\n",
            "Power_divergenceResult(statistic=23.31034482758621, pvalue=0.015975692534127565)\n"
          ],
          "name": "stdout"
        }
      ]
    },
    {
      "cell_type": "code",
      "metadata": {
        "id": "nN0BdNiDPxbk",
        "colab_type": "code",
        "outputId": "4f01561b-9c8b-4d49-d2d3-7fbe73fceaee",
        "colab": {
          "base_uri": "https://localhost:8080/",
          "height": 34
        }
      },
      "source": [
        "# Distribution tests:\n",
        "# We often assume that something is normal, but it can be important to *check*\n",
        "\n",
        "# For example, later on with predictive modeling, a typical assumption is that\n",
        "# residuals (prediction errors) are normal - checking is a good diagnostic\n",
        "\n",
        "from scipy.stats import normaltest\n",
        "# Poisson models arrival times and is related to the binomial (coinflip)\n",
        "sample = np.random.poisson(5, 1000)\n",
        "print(normaltest(sample))  # Pretty clearly not normal"
      ],
      "execution_count": 0,
      "outputs": [
        {
          "output_type": "stream",
          "text": [
            "NormaltestResult(statistic=28.094846668004493, pvalue=7.930152902256951e-07)\n"
          ],
          "name": "stdout"
        }
      ]
    },
    {
      "cell_type": "code",
      "metadata": {
        "id": "P5t0WhkDReFO",
        "colab_type": "code",
        "outputId": "eb23a4c7-f8a7-46f2-9b01-24aeafc15b69",
        "colab": {
          "base_uri": "https://localhost:8080/",
          "height": 50
        }
      },
      "source": [
        "# Kruskal-Wallis H-test - compare the median rank between 2+ groups\n",
        "# Can be applied to ranking decisions/outcomes/recommendations\n",
        "# The underlying math comes from chi-square distribution, and is best for n>5\n",
        "from scipy.stats import kruskal\n",
        "\n",
        "x1 = [1, 3, 5, 7, 9]\n",
        "y1 = [2, 4, 6, 8, 10]\n",
        "print(kruskal(x1, y1))  # x1 is a little better, but not \"significantly\" so\n",
        "\n",
        "x2 = [1, 1, 1]\n",
        "y2 = [2, 2, 2]\n",
        "z = [2, 2]  # Hey, a third group, and of different size!\n",
        "print(kruskal(x2, y2, z))  # x clearly dominates"
      ],
      "execution_count": 0,
      "outputs": [
        {
          "output_type": "stream",
          "text": [
            "KruskalResult(statistic=0.2727272727272734, pvalue=0.6015081344405895)\n",
            "KruskalResult(statistic=7.0, pvalue=0.0301973834223185)\n"
          ],
          "name": "stdout"
        }
      ]
    },
    {
      "cell_type": "markdown",
      "metadata": {
        "id": "7pT3IP36Rh0b",
        "colab_type": "text"
      },
      "source": [
        "And there's many more! `scipy.stats` is fairly comprehensive, though there are even more available if you delve into the extended world of statistics packages. As tests get increasingly obscure and specialized, the importance of knowing them by heart becomes small - but being able to look them up and figure them out when they *are* relevant is still important."
      ]
    },
    {
      "cell_type": "markdown",
      "metadata": {
        "id": "3JqroCQYQqhy",
        "colab_type": "text"
      },
      "source": [
        "## T-test Assumptions"
      ]
    },
    {
      "cell_type": "code",
      "metadata": {
        "id": "sqy2hEFRZnvI",
        "colab_type": "code",
        "colab": {}
      },
      "source": [
        "from scipy.stats import ttest_ind\n",
        "\n",
        "?ttest_ind"
      ],
      "execution_count": 0,
      "outputs": []
    },
    {
      "cell_type": "markdown",
      "metadata": {
        "id": "xI-PcK5sZ1A9",
        "colab_type": "text"
      },
      "source": [
        "<https://statistics.laerd.com/statistical-guides/independent-t-test-statistical-guide.php>\n",
        "\n",
        "- Independence of means\n",
        "\n",
        "Are the means of our voting data independent (do not affect the outcome of one another)?\n",
        "  \n",
        "The best way to increase thel likelihood of our means being independent is to randomly sample (which we did not do).\n",
        "\n",
        "- \"Homogeneity\" of Variance? \n",
        "\n",
        "Is the magnitude of the variance between the two roughly the same?\n",
        "\n",
        "I think we're OK on this one for the voting data, although it probably could be better, one party was larger than the other.\n",
        "\n",
        "If we suspect this to be a problem then we can use Welch's T-test"
      ]
    },
    {
      "cell_type": "markdown",
      "metadata": {
        "id": "tjgoHHwGayoC",
        "colab_type": "text"
      },
      "source": [
        "- \"Dependent Variable\" (sample means) are Distributed Normally\n",
        "\n",
        "<https://stats.stackexchange.com/questions/9573/t-test-for-non-normal-when-n50>\n",
        "\n",
        "Lots of statistical tests depend on normal distributions. We can test for normality using Scipy as was shown above.\n",
        "\n",
        "This assumption is often assumed even if the assumption is a weak one. If you strongly suspect that things are not normally distributed, you can transform your data to get it looking more normal and then run your test. This problem typically goes away for large sample sizes (yay Central Limit Theorem) and is often why you don't hear it brought up. People declare the assumption to be satisfied either way. \n",
        "\n"
      ]
    },
    {
      "cell_type": "markdown",
      "metadata": {
        "id": "bvvPV-RJN2vA",
        "colab_type": "text"
      },
      "source": [
        "## Central Limit Theorem\n",
        "\n"
      ]
    },
    {
      "cell_type": "code",
      "metadata": {
        "id": "7SZrJkeQM2fm",
        "colab_type": "code",
        "outputId": "47217ab8-004f-4c7c-87ed-14beb77cd2d7",
        "colab": {
          "base_uri": "https://localhost:8080/",
          "height": 50
        }
      },
      "source": [
        "np.random.binomial(n=1, p=.5, size=30)"
      ],
      "execution_count": 0,
      "outputs": [
        {
          "output_type": "execute_result",
          "data": {
            "text/plain": [
              "array([1, 0, 0, 0, 0, 0, 0, 0, 0, 0, 1, 1, 0, 1, 1, 0, 0, 1, 1, 0, 0, 1,\n",
              "       1, 1, 0, 1, 0, 0, 0, 0])"
            ]
          },
          "metadata": {
            "tags": []
          },
          "execution_count": 6
        }
      ]
    },
    {
      "cell_type": "code",
      "metadata": {
        "id": "FBLoOF8qOJeJ",
        "colab_type": "code",
        "outputId": "9f590fe3-1de1-45c1-a584-366decc4c7d3",
        "colab": {
          "base_uri": "https://localhost:8080/",
          "height": 70
        }
      },
      "source": [
        "import numpy as np\n",
        "import matplotlib.pyplot as plt\n",
        "import pandas as pd\n",
        "\n",
        "N = 1000\n",
        "sample_means = []\n",
        "for x in range(0,N):\n",
        "  coinflips = np.random.binomial(n=1, p=.5, size=30)\n",
        "  one_sample = coinflips\n",
        "  sample_means.append(coinflips.mean())\n",
        "\n",
        "print(len(sample_means))\n",
        "print(sample_means)"
      ],
      "execution_count": 0,
      "outputs": [
        {
          "output_type": "stream",
          "text": [
            "1000\n",
            "[0.36666666666666664, 0.4666666666666667, 0.5666666666666667, 0.5, 0.6666666666666666, 0.43333333333333335, 0.6, 0.36666666666666664, 0.6333333333333333, 0.5666666666666667, 0.5333333333333333, 0.43333333333333335, 0.7, 0.5, 0.36666666666666664, 0.6, 0.5333333333333333, 0.5666666666666667, 0.4, 0.36666666666666664, 0.26666666666666666, 0.5, 0.5666666666666667, 0.36666666666666664, 0.43333333333333335, 0.5, 0.4666666666666667, 0.6, 0.6, 0.6, 0.43333333333333335, 0.6333333333333333, 0.4666666666666667, 0.36666666666666664, 0.43333333333333335, 0.5, 0.5333333333333333, 0.5, 0.4, 0.6333333333333333, 0.4666666666666667, 0.5, 0.5666666666666667, 0.26666666666666666, 0.4666666666666667, 0.5333333333333333, 0.43333333333333335, 0.6, 0.43333333333333335, 0.5, 0.36666666666666664, 0.43333333333333335, 0.4666666666666667, 0.43333333333333335, 0.6666666666666666, 0.7666666666666667, 0.5, 0.43333333333333335, 0.43333333333333335, 0.3, 0.5333333333333333, 0.6, 0.5, 0.5, 0.5, 0.3333333333333333, 0.5333333333333333, 0.5666666666666667, 0.6, 0.5333333333333333, 0.6, 0.43333333333333335, 0.5666666666666667, 0.5, 0.3, 0.5666666666666667, 0.4, 0.43333333333333335, 0.3333333333333333, 0.6333333333333333, 0.5666666666666667, 0.7, 0.5333333333333333, 0.43333333333333335, 0.4666666666666667, 0.43333333333333335, 0.5, 0.5666666666666667, 0.5333333333333333, 0.2, 0.5, 0.3333333333333333, 0.5333333333333333, 0.36666666666666664, 0.6, 0.5333333333333333, 0.5666666666666667, 0.4666666666666667, 0.43333333333333335, 0.4666666666666667, 0.5333333333333333, 0.5333333333333333, 0.36666666666666664, 0.5, 0.5666666666666667, 0.4666666666666667, 0.43333333333333335, 0.6666666666666666, 0.6333333333333333, 0.5, 0.5, 0.3, 0.5, 0.5, 0.4, 0.4666666666666667, 0.43333333333333335, 0.5666666666666667, 0.6666666666666666, 0.5333333333333333, 0.3, 0.4, 0.4, 0.36666666666666664, 0.4666666666666667, 0.5666666666666667, 0.4, 0.4666666666666667, 0.43333333333333335, 0.6, 0.5666666666666667, 0.3333333333333333, 0.43333333333333335, 0.5333333333333333, 0.36666666666666664, 0.4, 0.5333333333333333, 0.3333333333333333, 0.4666666666666667, 0.5333333333333333, 0.5666666666666667, 0.5333333333333333, 0.6, 0.5333333333333333, 0.5333333333333333, 0.5666666666666667, 0.4, 0.5333333333333333, 0.43333333333333335, 0.4666666666666667, 0.5666666666666667, 0.5666666666666667, 0.5333333333333333, 0.5333333333333333, 0.43333333333333335, 0.4666666666666667, 0.36666666666666664, 0.4666666666666667, 0.6333333333333333, 0.5333333333333333, 0.5333333333333333, 0.5, 0.4666666666666667, 0.4666666666666667, 0.6666666666666666, 0.6333333333333333, 0.43333333333333335, 0.5, 0.5333333333333333, 0.5333333333333333, 0.6333333333333333, 0.3333333333333333, 0.43333333333333335, 0.36666666666666664, 0.6333333333333333, 0.3, 0.3, 0.6333333333333333, 0.5333333333333333, 0.5, 0.6, 0.4666666666666667, 0.5666666666666667, 0.5666666666666667, 0.4, 0.6333333333333333, 0.4666666666666667, 0.43333333333333335, 0.6, 0.36666666666666664, 0.5333333333333333, 0.6333333333333333, 0.5333333333333333, 0.5333333333333333, 0.6, 0.5666666666666667, 0.36666666666666664, 0.43333333333333335, 0.43333333333333335, 0.5, 0.4666666666666667, 0.36666666666666664, 0.6333333333333333, 0.5, 0.5333333333333333, 0.4666666666666667, 0.6333333333333333, 0.5333333333333333, 0.5666666666666667, 0.4666666666666667, 0.4, 0.6666666666666666, 0.4666666666666667, 0.6333333333333333, 0.5, 0.4666666666666667, 0.16666666666666666, 0.5333333333333333, 0.5, 0.4666666666666667, 0.7666666666666667, 0.36666666666666664, 0.5666666666666667, 0.43333333333333335, 0.4666666666666667, 0.4, 0.6333333333333333, 0.6, 0.4666666666666667, 0.6, 0.5, 0.5333333333333333, 0.4, 0.5666666666666667, 0.43333333333333335, 0.4666666666666667, 0.43333333333333335, 0.4666666666666667, 0.3333333333333333, 0.4666666666666667, 0.43333333333333335, 0.36666666666666664, 0.6, 0.5666666666666667, 0.4, 0.5, 0.5, 0.4666666666666667, 0.36666666666666664, 0.4666666666666667, 0.5, 0.3333333333333333, 0.6, 0.5, 0.36666666666666664, 0.5333333333333333, 0.5, 0.36666666666666664, 0.5, 0.5, 0.4666666666666667, 0.4666666666666667, 0.5, 0.4666666666666667, 0.26666666666666666, 0.4666666666666667, 0.6, 0.6333333333333333, 0.43333333333333335, 0.43333333333333335, 0.5333333333333333, 0.5666666666666667, 0.5333333333333333, 0.7, 0.4666666666666667, 0.36666666666666664, 0.36666666666666664, 0.6666666666666666, 0.43333333333333335, 0.43333333333333335, 0.5666666666666667, 0.4, 0.4666666666666667, 0.5, 0.5, 0.36666666666666664, 0.6, 0.5, 0.43333333333333335, 0.4666666666666667, 0.4, 0.4666666666666667, 0.5666666666666667, 0.5666666666666667, 0.3333333333333333, 0.5666666666666667, 0.5, 0.5333333333333333, 0.36666666666666664, 0.5, 0.5, 0.4666666666666667, 0.5666666666666667, 0.5666666666666667, 0.36666666666666664, 0.4666666666666667, 0.5333333333333333, 0.43333333333333335, 0.7666666666666667, 0.5666666666666667, 0.5, 0.43333333333333335, 0.4666666666666667, 0.36666666666666664, 0.5666666666666667, 0.4666666666666667, 0.4, 0.43333333333333335, 0.4, 0.6333333333333333, 0.5666666666666667, 0.36666666666666664, 0.43333333333333335, 0.36666666666666664, 0.4666666666666667, 0.6333333333333333, 0.5666666666666667, 0.6333333333333333, 0.5333333333333333, 0.43333333333333335, 0.5666666666666667, 0.6, 0.43333333333333335, 0.5, 0.6, 0.5, 0.5, 0.6, 0.5, 0.43333333333333335, 0.3, 0.43333333333333335, 0.4, 0.5666666666666667, 0.4666666666666667, 0.5, 0.5333333333333333, 0.5, 0.5666666666666667, 0.4666666666666667, 0.4666666666666667, 0.5333333333333333, 0.5, 0.7, 0.6, 0.5, 0.4, 0.5, 0.5333333333333333, 0.4666666666666667, 0.43333333333333335, 0.6666666666666666, 0.6, 0.5, 0.5, 0.43333333333333335, 0.43333333333333335, 0.3, 0.43333333333333335, 0.4666666666666667, 0.5666666666666667, 0.6, 0.4, 0.4666666666666667, 0.36666666666666664, 0.5333333333333333, 0.4666666666666667, 0.3, 0.5333333333333333, 0.5333333333333333, 0.6333333333333333, 0.43333333333333335, 0.5666666666666667, 0.6, 0.5, 0.6666666666666666, 0.6333333333333333, 0.6666666666666666, 0.43333333333333335, 0.6333333333333333, 0.26666666666666666, 0.6, 0.4666666666666667, 0.36666666666666664, 0.6333333333333333, 0.4666666666666667, 0.6, 0.4, 0.6, 0.23333333333333334, 0.5, 0.6, 0.5333333333333333, 0.5666666666666667, 0.6333333333333333, 0.4666666666666667, 0.36666666666666664, 0.4666666666666667, 0.5666666666666667, 0.5333333333333333, 0.5333333333333333, 0.5333333333333333, 0.43333333333333335, 0.4666666666666667, 0.43333333333333335, 0.5333333333333333, 0.4666666666666667, 0.6333333333333333, 0.4, 0.6333333333333333, 0.6, 0.6, 0.5, 0.5, 0.4, 0.4666666666666667, 0.5, 0.4666666666666667, 0.43333333333333335, 0.5, 0.4666666666666667, 0.4, 0.43333333333333335, 0.5666666666666667, 0.6666666666666666, 0.4666666666666667, 0.36666666666666664, 0.6, 0.4666666666666667, 0.6, 0.6, 0.3333333333333333, 0.36666666666666664, 0.5333333333333333, 0.36666666666666664, 0.5333333333333333, 0.4666666666666667, 0.5666666666666667, 0.5666666666666667, 0.5666666666666667, 0.4666666666666667, 0.6333333333333333, 0.4666666666666667, 0.5333333333333333, 0.4666666666666667, 0.5333333333333333, 0.5, 0.5666666666666667, 0.3, 0.7, 0.43333333333333335, 0.5, 0.4666666666666667, 0.4666666666666667, 0.5, 0.4, 0.4, 0.5333333333333333, 0.3, 0.5666666666666667, 0.43333333333333335, 0.5666666666666667, 0.6, 0.4666666666666667, 0.26666666666666666, 0.5, 0.5333333333333333, 0.5, 0.5333333333333333, 0.4, 0.5333333333333333, 0.5666666666666667, 0.5, 0.5666666666666667, 0.6, 0.7666666666666667, 0.43333333333333335, 0.4666666666666667, 0.5, 0.43333333333333335, 0.4, 0.36666666666666664, 0.7, 0.6, 0.4666666666666667, 0.43333333333333335, 0.3333333333333333, 0.6666666666666666, 0.6666666666666666, 0.43333333333333335, 0.7, 0.3333333333333333, 0.5, 0.5333333333333333, 0.43333333333333335, 0.4, 0.5, 0.5333333333333333, 0.5333333333333333, 0.5666666666666667, 0.4666666666666667, 0.4, 0.5333333333333333, 0.4666666666666667, 0.43333333333333335, 0.4666666666666667, 0.4666666666666667, 0.5666666666666667, 0.5333333333333333, 0.3, 0.6333333333333333, 0.4, 0.5333333333333333, 0.5, 0.5666666666666667, 0.6, 0.6333333333333333, 0.5333333333333333, 0.4666666666666667, 0.5333333333333333, 0.4666666666666667, 0.5666666666666667, 0.5333333333333333, 0.4666666666666667, 0.5, 0.43333333333333335, 0.4666666666666667, 0.4666666666666667, 0.5, 0.6, 0.43333333333333335, 0.5666666666666667, 0.6333333333333333, 0.4666666666666667, 0.5666666666666667, 0.6666666666666666, 0.5, 0.5333333333333333, 0.3, 0.43333333333333335, 0.43333333333333335, 0.5666666666666667, 0.36666666666666664, 0.4666666666666667, 0.4666666666666667, 0.5666666666666667, 0.6333333333333333, 0.4, 0.43333333333333335, 0.36666666666666664, 0.5333333333333333, 0.5, 0.36666666666666664, 0.6666666666666666, 0.4, 0.5, 0.5, 0.5, 0.5333333333333333, 0.3333333333333333, 0.6666666666666666, 0.5, 0.5333333333333333, 0.4, 0.4666666666666667, 0.4666666666666667, 0.6, 0.3, 0.36666666666666664, 0.5666666666666667, 0.36666666666666664, 0.5, 0.36666666666666664, 0.6, 0.3333333333333333, 0.4666666666666667, 0.43333333333333335, 0.4666666666666667, 0.5333333333333333, 0.43333333333333335, 0.5333333333333333, 0.36666666666666664, 0.4666666666666667, 0.5, 0.5333333333333333, 0.5, 0.5333333333333333, 0.5666666666666667, 0.43333333333333335, 0.36666666666666664, 0.43333333333333335, 0.5666666666666667, 0.6666666666666666, 0.5666666666666667, 0.5333333333333333, 0.4666666666666667, 0.5333333333333333, 0.6, 0.5666666666666667, 0.5333333333333333, 0.4, 0.43333333333333335, 0.5333333333333333, 0.6333333333333333, 0.5, 0.4, 0.43333333333333335, 0.6, 0.6, 0.5, 0.6333333333333333, 0.5, 0.5666666666666667, 0.5666666666666667, 0.5333333333333333, 0.4, 0.4666666666666667, 0.36666666666666664, 0.6333333333333333, 0.5333333333333333, 0.5666666666666667, 0.7, 0.4, 0.5, 0.5666666666666667, 0.5666666666666667, 0.3, 0.6666666666666666, 0.5666666666666667, 0.4666666666666667, 0.5, 0.5333333333333333, 0.26666666666666666, 0.5, 0.5333333333333333, 0.5333333333333333, 0.6333333333333333, 0.6333333333333333, 0.5, 0.5666666666666667, 0.5666666666666667, 0.43333333333333335, 0.5333333333333333, 0.5333333333333333, 0.4666666666666667, 0.4666666666666667, 0.43333333333333335, 0.5666666666666667, 0.4666666666666667, 0.5333333333333333, 0.4666666666666667, 0.5333333333333333, 0.36666666666666664, 0.5666666666666667, 0.5333333333333333, 0.5666666666666667, 0.5333333333333333, 0.5333333333333333, 0.5, 0.3, 0.5666666666666667, 0.5, 0.4, 0.4, 0.4666666666666667, 0.6, 0.36666666666666664, 0.5333333333333333, 0.5333333333333333, 0.6333333333333333, 0.4666666666666667, 0.5, 0.5666666666666667, 0.7, 0.4666666666666667, 0.5333333333333333, 0.3333333333333333, 0.4, 0.5, 0.5333333333333333, 0.4, 0.5, 0.6, 0.4666666666666667, 0.7333333333333333, 0.4666666666666667, 0.7, 0.3, 0.5333333333333333, 0.4666666666666667, 0.4666666666666667, 0.5666666666666667, 0.5666666666666667, 0.5666666666666667, 0.4, 0.4666666666666667, 0.5333333333333333, 0.6, 0.6, 0.5666666666666667, 0.6333333333333333, 0.4666666666666667, 0.36666666666666664, 0.43333333333333335, 0.4666666666666667, 0.43333333333333335, 0.5666666666666667, 0.5666666666666667, 0.5666666666666667, 0.5, 0.6333333333333333, 0.3333333333333333, 0.43333333333333335, 0.5666666666666667, 0.4666666666666667, 0.5, 0.4666666666666667, 0.5, 0.5666666666666667, 0.4666666666666667, 0.5666666666666667, 0.5333333333333333, 0.5333333333333333, 0.4666666666666667, 0.6, 0.6333333333333333, 0.36666666666666664, 0.43333333333333335, 0.5333333333333333, 0.36666666666666664, 0.5, 0.5, 0.5666666666666667, 0.6333333333333333, 0.3333333333333333, 0.5333333333333333, 0.5333333333333333, 0.6, 0.5666666666666667, 0.5666666666666667, 0.5, 0.4666666666666667, 0.43333333333333335, 0.5666666666666667, 0.4, 0.6, 0.36666666666666664, 0.36666666666666664, 0.6666666666666666, 0.4666666666666667, 0.5666666666666667, 0.4666666666666667, 0.43333333333333335, 0.5, 0.5666666666666667, 0.26666666666666666, 0.43333333333333335, 0.36666666666666664, 0.5333333333333333, 0.43333333333333335, 0.5, 0.4666666666666667, 0.36666666666666664, 0.36666666666666664, 0.4, 0.36666666666666664, 0.36666666666666664, 0.4666666666666667, 0.6, 0.5666666666666667, 0.4666666666666667, 0.5, 0.5333333333333333, 0.6666666666666666, 0.5666666666666667, 0.5, 0.43333333333333335, 0.5, 0.4, 0.43333333333333335, 0.6, 0.5333333333333333, 0.36666666666666664, 0.6666666666666666, 0.43333333333333335, 0.3, 0.6, 0.4666666666666667, 0.3333333333333333, 0.5333333333333333, 0.4666666666666667, 0.43333333333333335, 0.43333333333333335, 0.4666666666666667, 0.5666666666666667, 0.5, 0.4666666666666667, 0.5333333333333333, 0.5666666666666667, 0.5666666666666667, 0.5666666666666667, 0.5333333333333333, 0.43333333333333335, 0.5666666666666667, 0.4666666666666667, 0.6666666666666666, 0.5333333333333333, 0.36666666666666664, 0.6333333333333333, 0.43333333333333335, 0.43333333333333335, 0.4666666666666667, 0.5666666666666667, 0.5666666666666667, 0.5, 0.5, 0.43333333333333335, 0.36666666666666664, 0.4666666666666667, 0.5, 0.4666666666666667, 0.6666666666666666, 0.6, 0.36666666666666664, 0.5, 0.3333333333333333, 0.5666666666666667, 0.5, 0.7, 0.6333333333333333, 0.6, 0.43333333333333335, 0.4, 0.5, 0.36666666666666664, 0.5333333333333333, 0.7333333333333333, 0.5, 0.4, 0.6, 0.5666666666666667, 0.6333333333333333, 0.5333333333333333, 0.6, 0.5, 0.5, 0.4, 0.6, 0.5, 0.43333333333333335, 0.5, 0.5333333333333333, 0.6666666666666666, 0.5333333333333333, 0.5666666666666667, 0.43333333333333335, 0.6, 0.5666666666666667, 0.36666666666666664, 0.36666666666666664, 0.36666666666666664, 0.5333333333333333, 0.6, 0.5, 0.4, 0.6666666666666666, 0.36666666666666664, 0.36666666666666664, 0.5666666666666667, 0.4666666666666667, 0.5333333333333333, 0.5, 0.6666666666666666, 0.5666666666666667, 0.4, 0.43333333333333335, 0.4666666666666667, 0.43333333333333335, 0.4, 0.4, 0.5, 0.5, 0.36666666666666664, 0.36666666666666664, 0.6333333333333333, 0.43333333333333335, 0.5666666666666667, 0.6333333333333333, 0.5, 0.5333333333333333, 0.4666666666666667, 0.43333333333333335, 0.5, 0.26666666666666666, 0.5, 0.43333333333333335, 0.5, 0.4, 0.36666666666666664, 0.5333333333333333, 0.4666666666666667, 0.5333333333333333, 0.5333333333333333, 0.5666666666666667, 0.4666666666666667, 0.6, 0.5, 0.4, 0.6, 0.5666666666666667, 0.6, 0.5333333333333333, 0.43333333333333335, 0.5, 0.43333333333333335, 0.4, 0.5333333333333333, 0.4666666666666667, 0.4666666666666667, 0.5, 0.43333333333333335, 0.5333333333333333, 0.6, 0.5, 0.4, 0.3333333333333333, 0.3333333333333333, 0.5333333333333333, 0.5, 0.5666666666666667, 0.43333333333333335, 0.6, 0.5333333333333333, 0.5666666666666667, 0.5333333333333333, 0.3333333333333333, 0.5, 0.43333333333333335, 0.5, 0.5333333333333333, 0.4666666666666667, 0.4, 0.5333333333333333, 0.5, 0.43333333333333335, 0.6666666666666666, 0.4666666666666667, 0.6333333333333333, 0.4666666666666667, 0.4, 0.6333333333333333, 0.6, 0.6333333333333333, 0.4, 0.6666666666666666, 0.43333333333333335, 0.5, 0.6, 0.4, 0.6666666666666666, 0.4, 0.5333333333333333, 0.43333333333333335, 0.43333333333333335, 0.6333333333333333, 0.5666666666666667, 0.4666666666666667, 0.4, 0.4, 0.4666666666666667, 0.4, 0.43333333333333335, 0.36666666666666664, 0.4666666666666667, 0.5, 0.6, 0.4666666666666667, 0.6333333333333333, 0.5333333333333333, 0.4, 0.43333333333333335, 0.5333333333333333, 0.36666666666666664, 0.5, 0.5333333333333333, 0.4666666666666667, 0.4, 0.3, 0.5333333333333333, 0.6333333333333333]\n"
          ],
          "name": "stdout"
        }
      ]
    },
    {
      "cell_type": "code",
      "metadata": {
        "id": "rfeA06evOT2K",
        "colab_type": "code",
        "outputId": "24a549bd-8c8d-42b3-859b-9049cc93214c",
        "colab": {
          "base_uri": "https://localhost:8080/",
          "height": 195
        }
      },
      "source": [
        "# Create dataframe with single coin flip\n",
        "df = pd.DataFrame({'one-samp': one_sample})\n",
        "df.head()"
      ],
      "execution_count": 0,
      "outputs": [
        {
          "output_type": "execute_result",
          "data": {
            "text/html": [
              "<div>\n",
              "<style scoped>\n",
              "    .dataframe tbody tr th:only-of-type {\n",
              "        vertical-align: middle;\n",
              "    }\n",
              "\n",
              "    .dataframe tbody tr th {\n",
              "        vertical-align: top;\n",
              "    }\n",
              "\n",
              "    .dataframe thead th {\n",
              "        text-align: right;\n",
              "    }\n",
              "</style>\n",
              "<table border=\"1\" class=\"dataframe\">\n",
              "  <thead>\n",
              "    <tr style=\"text-align: right;\">\n",
              "      <th></th>\n",
              "      <th>one-samp</th>\n",
              "    </tr>\n",
              "  </thead>\n",
              "  <tbody>\n",
              "    <tr>\n",
              "      <th>0</th>\n",
              "      <td>1</td>\n",
              "    </tr>\n",
              "    <tr>\n",
              "      <th>1</th>\n",
              "      <td>0</td>\n",
              "    </tr>\n",
              "    <tr>\n",
              "      <th>2</th>\n",
              "      <td>1</td>\n",
              "    </tr>\n",
              "    <tr>\n",
              "      <th>3</th>\n",
              "      <td>1</td>\n",
              "    </tr>\n",
              "    <tr>\n",
              "      <th>4</th>\n",
              "      <td>1</td>\n",
              "    </tr>\n",
              "  </tbody>\n",
              "</table>\n",
              "</div>"
            ],
            "text/plain": [
              "   one-samp\n",
              "0         1\n",
              "1         0\n",
              "2         1\n",
              "3         1\n",
              "4         1"
            ]
          },
          "metadata": {
            "tags": []
          },
          "execution_count": 53
        }
      ]
    },
    {
      "cell_type": "code",
      "metadata": {
        "id": "GlMSNFX6OmBV",
        "colab_type": "code",
        "outputId": "d1c91706-a046-40a8-e9bc-9f836ced24bd",
        "colab": {
          "base_uri": "https://localhost:8080/",
          "height": 281
        }
      },
      "source": [
        "# Plot histogram to look at distribution of a single coin flip \n",
        "df.hist();"
      ],
      "execution_count": 0,
      "outputs": [
        {
          "output_type": "display_data",
          "data": {
            "image/png": "[encoded data removed]",
            "text/plain": [
              "<Figure size 432x288 with 1 Axes>"
            ]
          },
          "metadata": {
            "tags": []
          }
        }
      ]
    },
    {
      "cell_type": "code",
      "metadata": {
        "id": "Jie4ypgLOs5M",
        "colab_type": "code",
        "outputId": "9acf247c-d66e-4061-cafe-fcb57656610e",
        "colab": {
          "base_uri": "https://localhost:8080/",
          "height": 296
        }
      },
      "source": [
        "# Plot histogram to look at distribution of all coin flips\n",
        "ax = plt.hist(sample_means)\n",
        "plt.title(f'Distribution of {N} sample means \\n (of 100 coinflips each)');"
      ],
      "execution_count": 0,
      "outputs": [
        {
          "output_type": "display_data",
          "data": {
            "image/png": "[encoded data removed]",
            "text/plain": [
              "<Figure size 432x288 with 1 Axes>"
            ]
          },
          "metadata": {
            "tags": []
          }
        }
      ]
    },
    {
      "cell_type": "markdown",
      "metadata": {
        "id": "LsEAjc4rOylm",
        "colab_type": "text"
      },
      "source": [
        "What does the Central Limit Theorem State? That no matter the initial distribution of the population, the distribution of sample means taken will approximate a normal distribution as $n \\rightarrow \\infty$.\n",
        "\n",
        "This has very important implications for hypothesis testing and is precisely the reason why the t-distribution begins to approximate the normal distribution as our sample size increases. "
      ]
    },
    {
      "cell_type": "markdown",
      "metadata": {
        "id": "EYqo5vZZSFUr",
        "colab_type": "text"
      },
      "source": [
        "## Standard Error of the Mean\n",
        "\n",
        "What does it mean to \"estimate\"? the Population mean?"
      ]
    },
    {
      "cell_type": "code",
      "metadata": {
        "id": "puGXH6vbSIE4",
        "colab_type": "code",
        "outputId": "530db041-d6f7-4e58-fd66-7a9d1ca3d800",
        "colab": {
          "base_uri": "https://localhost:8080/",
          "height": 67
        }
      },
      "source": [
        "import numpy as np\n",
        "import pandas as pd\n",
        "\n",
        "# Average Height\n",
        "mu = 70\n",
        "sigma = 3\n",
        "\n",
        "lambda_heights = np.random.normal(mu, sigma, 2000)\n",
        "print(len(lambda_heights))\n",
        "lambda_heights"
      ],
      "execution_count": 0,
      "outputs": [
        {
          "output_type": "stream",
          "text": [
            "2000\n"
          ],
          "name": "stdout"
        },
        {
          "output_type": "execute_result",
          "data": {
            "text/plain": [
              "array([75.27298201, 73.53278172, 67.35668305, ..., 71.62847436,\n",
              "       71.57331148, 71.59265235])"
            ]
          },
          "metadata": {
            "tags": []
          },
          "execution_count": 56
        }
      ]
    },
    {
      "cell_type": "code",
      "metadata": {
        "id": "2X-aKCTSXVOc",
        "colab_type": "code",
        "outputId": "890a15ad-d91d-4cdf-e5fb-e843cc37e29f",
        "colab": {
          "base_uri": "https://localhost:8080/",
          "height": 281
        }
      },
      "source": [
        "import seaborn as sns\n",
        "\n",
        "sns.distplot(lambda_heights)\n",
        "plt.title('Distribution of Heights (in inches)');"
      ],
      "execution_count": 0,
      "outputs": [
        {
          "output_type": "display_data",
          "data": {
            "image/png": "[encoded data removed]",
            "text/plain": [
              "<Figure size 432x288 with 1 Axes>"
            ]
          },
          "metadata": {
            "tags": []
          }
        }
      ]
    },
    {
      "cell_type": "code",
      "metadata": {
        "id": "fQlloeU4qwuI",
        "colab_type": "code",
        "outputId": "db64978a-a4f7-4104-8d02-c35e39932607",
        "colab": {
          "base_uri": "https://localhost:8080/",
          "height": 50
        }
      },
      "source": [
        "print(\"Population Mean:\", lambda_heights.mean())\n",
        "print(\"Population Standard Deviation:\", lambda_heights.std())"
      ],
      "execution_count": 0,
      "outputs": [
        {
          "output_type": "stream",
          "text": [
            "Population Mean: 70.01784335410584\n",
            "Population Standard Deviation: 2.960488297079555\n"
          ],
          "name": "stdout"
        }
      ]
    },
    {
      "cell_type": "code",
      "metadata": {
        "id": "sOD7gQMxq3ib",
        "colab_type": "code",
        "outputId": "c134f072-bd73-43b8-aeef-c7d1b82bf4b3",
        "colab": {
          "base_uri": "https://localhost:8080/",
          "height": 212
        }
      },
      "source": [
        "population = pd.DataFrame({'heights': lambda_heights})\n",
        "print(population.shape)\n",
        "population.head()"
      ],
      "execution_count": 0,
      "outputs": [
        {
          "output_type": "stream",
          "text": [
            "(2000, 1)\n"
          ],
          "name": "stdout"
        },
        {
          "output_type": "execute_result",
          "data": {
            "text/html": [
              "<div>\n",
              "<style scoped>\n",
              "    .dataframe tbody tr th:only-of-type {\n",
              "        vertical-align: middle;\n",
              "    }\n",
              "\n",
              "    .dataframe tbody tr th {\n",
              "        vertical-align: top;\n",
              "    }\n",
              "\n",
              "    .dataframe thead th {\n",
              "        text-align: right;\n",
              "    }\n",
              "</style>\n",
              "<table border=\"1\" class=\"dataframe\">\n",
              "  <thead>\n",
              "    <tr style=\"text-align: right;\">\n",
              "      <th></th>\n",
              "      <th>heights</th>\n",
              "    </tr>\n",
              "  </thead>\n",
              "  <tbody>\n",
              "    <tr>\n",
              "      <th>0</th>\n",
              "      <td>75.272982</td>\n",
              "    </tr>\n",
              "    <tr>\n",
              "      <th>1</th>\n",
              "      <td>73.532782</td>\n",
              "    </tr>\n",
              "    <tr>\n",
              "      <th>2</th>\n",
              "      <td>67.356683</td>\n",
              "    </tr>\n",
              "    <tr>\n",
              "      <th>3</th>\n",
              "      <td>68.993736</td>\n",
              "    </tr>\n",
              "    <tr>\n",
              "      <th>4</th>\n",
              "      <td>66.670617</td>\n",
              "    </tr>\n",
              "  </tbody>\n",
              "</table>\n",
              "</div>"
            ],
            "text/plain": [
              "     heights\n",
              "0  75.272982\n",
              "1  73.532782\n",
              "2  67.356683\n",
              "3  68.993736\n",
              "4  66.670617"
            ]
          },
          "metadata": {
            "tags": []
          },
          "execution_count": 59
        }
      ]
    },
    {
      "cell_type": "code",
      "metadata": {
        "id": "A1DEQgCAq75F",
        "colab_type": "code",
        "outputId": "5f339864-10f8-437a-86bd-72d538a44ebe",
        "colab": {
          "base_uri": "https://localhost:8080/",
          "height": 212
        }
      },
      "source": [
        "# Take a random sample and print sample mean\n",
        "sample1 = population.sample(100)\n",
        "print(sample1.shape)\n",
        "sample1.head()"
      ],
      "execution_count": 0,
      "outputs": [
        {
          "output_type": "stream",
          "text": [
            "(100, 1)\n"
          ],
          "name": "stdout"
        },
        {
          "output_type": "execute_result",
          "data": {
            "text/html": [
              "<div>\n",
              "<style scoped>\n",
              "    .dataframe tbody tr th:only-of-type {\n",
              "        vertical-align: middle;\n",
              "    }\n",
              "\n",
              "    .dataframe tbody tr th {\n",
              "        vertical-align: top;\n",
              "    }\n",
              "\n",
              "    .dataframe thead th {\n",
              "        text-align: right;\n",
              "    }\n",
              "</style>\n",
              "<table border=\"1\" class=\"dataframe\">\n",
              "  <thead>\n",
              "    <tr style=\"text-align: right;\">\n",
              "      <th></th>\n",
              "      <th>heights</th>\n",
              "    </tr>\n",
              "  </thead>\n",
              "  <tbody>\n",
              "    <tr>\n",
              "      <th>1642</th>\n",
              "      <td>69.200564</td>\n",
              "    </tr>\n",
              "    <tr>\n",
              "      <th>834</th>\n",
              "      <td>70.208448</td>\n",
              "    </tr>\n",
              "    <tr>\n",
              "      <th>1508</th>\n",
              "      <td>68.242700</td>\n",
              "    </tr>\n",
              "    <tr>\n",
              "      <th>875</th>\n",
              "      <td>71.357699</td>\n",
              "    </tr>\n",
              "    <tr>\n",
              "      <th>843</th>\n",
              "      <td>69.299415</td>\n",
              "    </tr>\n",
              "  </tbody>\n",
              "</table>\n",
              "</div>"
            ],
            "text/plain": [
              "        heights\n",
              "1642  69.200564\n",
              "834   70.208448\n",
              "1508  68.242700\n",
              "875   71.357699\n",
              "843   69.299415"
            ]
          },
          "metadata": {
            "tags": []
          },
          "execution_count": 60
        }
      ]
    },
    {
      "cell_type": "code",
      "metadata": {
        "id": "BY0ls0pvRecJ",
        "colab_type": "code",
        "outputId": "94b360b3-5f3e-4586-f1b6-966ff1618818",
        "colab": {
          "base_uri": "https://localhost:8080/",
          "height": 34
        }
      },
      "source": [
        "print('Sample Mean #1:', sample1['heights'].mean())"
      ],
      "execution_count": 0,
      "outputs": [
        {
          "output_type": "stream",
          "text": [
            "Sample Mean #1: 69.69155993966513\n"
          ],
          "name": "stdout"
        }
      ]
    },
    {
      "cell_type": "code",
      "metadata": {
        "id": "SpMBMasFrJQK",
        "colab_type": "code",
        "outputId": "cb0c5957-8249-415c-b796-43688e3ac440",
        "colab": {
          "base_uri": "https://localhost:8080/",
          "height": 212
        }
      },
      "source": [
        "# Take a different random sample and print sample mean\n",
        "sample2 = population.sample(100)\n",
        "print(sample2.shape)\n",
        "sample2.head()"
      ],
      "execution_count": 0,
      "outputs": [
        {
          "output_type": "stream",
          "text": [
            "(100, 1)\n"
          ],
          "name": "stdout"
        },
        {
          "output_type": "execute_result",
          "data": {
            "text/html": [
              "<div>\n",
              "<style scoped>\n",
              "    .dataframe tbody tr th:only-of-type {\n",
              "        vertical-align: middle;\n",
              "    }\n",
              "\n",
              "    .dataframe tbody tr th {\n",
              "        vertical-align: top;\n",
              "    }\n",
              "\n",
              "    .dataframe thead th {\n",
              "        text-align: right;\n",
              "    }\n",
              "</style>\n",
              "<table border=\"1\" class=\"dataframe\">\n",
              "  <thead>\n",
              "    <tr style=\"text-align: right;\">\n",
              "      <th></th>\n",
              "      <th>heights</th>\n",
              "    </tr>\n",
              "  </thead>\n",
              "  <tbody>\n",
              "    <tr>\n",
              "      <th>484</th>\n",
              "      <td>67.271530</td>\n",
              "    </tr>\n",
              "    <tr>\n",
              "      <th>1912</th>\n",
              "      <td>69.699096</td>\n",
              "    </tr>\n",
              "    <tr>\n",
              "      <th>1824</th>\n",
              "      <td>65.834826</td>\n",
              "    </tr>\n",
              "    <tr>\n",
              "      <th>28</th>\n",
              "      <td>69.167553</td>\n",
              "    </tr>\n",
              "    <tr>\n",
              "      <th>1080</th>\n",
              "      <td>68.418836</td>\n",
              "    </tr>\n",
              "  </tbody>\n",
              "</table>\n",
              "</div>"
            ],
            "text/plain": [
              "        heights\n",
              "484   67.271530\n",
              "1912  69.699096\n",
              "1824  65.834826\n",
              "28    69.167553\n",
              "1080  68.418836"
            ]
          },
          "metadata": {
            "tags": []
          },
          "execution_count": 63
        }
      ]
    },
    {
      "cell_type": "code",
      "metadata": {
        "id": "zRMhKInJR0s6",
        "colab_type": "code",
        "outputId": "7153f749-8069-4ec0-c7be-e5b0c1e3f7cc",
        "colab": {
          "base_uri": "https://localhost:8080/",
          "height": 34
        }
      },
      "source": [
        "print('Sample Mean #2:', sample2['heights'].mean())"
      ],
      "execution_count": 0,
      "outputs": [
        {
          "output_type": "stream",
          "text": [
            "Sample Mean #2: 69.65665910584407\n"
          ],
          "name": "stdout"
        }
      ]
    },
    {
      "cell_type": "markdown",
      "metadata": {
        "id": "nfdQf8QYUUmw",
        "colab_type": "text"
      },
      "source": [
        "## Build and Interpret a Confidence Interval\n",
        "\n",
        "<img src=\"https://github.com/ryanallredblog/ryanallredblog.github.io/blob/master/img/Confidence_Interval.png?raw=true\" width=400>"
      ]
    },
    {
      "cell_type": "code",
      "metadata": {
        "id": "tBx71Kf0UjT3",
        "colab_type": "code",
        "outputId": "5d2b9fbf-792d-4cc9-ca0a-1ab52f26df0b",
        "colab": {
          "base_uri": "https://localhost:8080/",
          "height": 50
        }
      },
      "source": [
        "coinflips_10000 = np.random.binomial(n=1, p=0.5, size=10000)\n",
        "\n",
        "sample_std = np.std(coinflips_10000)\n",
        "print('Sample St Dev:', sample_std)\n",
        "sample_size = len(coinflips_10000)\n",
        "print('Sample Size:', sample_size)"
      ],
      "execution_count": 0,
      "outputs": [
        {
          "output_type": "stream",
          "text": [
            "Sample St Dev: 0.49999963999987046\n",
            "Sample Size: 10000\n"
          ],
          "name": "stdout"
        }
      ]
    },
    {
      "cell_type": "code",
      "metadata": {
        "id": "xMzVIpLiTFUg",
        "colab_type": "code",
        "outputId": "435a4a5f-0f5e-4503-f560-daba388a4797",
        "colab": {
          "base_uri": "https://localhost:8080/",
          "height": 34
        }
      },
      "source": [
        "standard_error = sample_std/np.sqrt(sample_size)\n",
        "print(standard_error)"
      ],
      "execution_count": 0,
      "outputs": [
        {
          "output_type": "stream",
          "text": [
            "0.004999996399998705\n"
          ],
          "name": "stdout"
        }
      ]
    },
    {
      "cell_type": "markdown",
      "metadata": {
        "id": "RkYC5rnUw914",
        "colab_type": "text"
      },
      "source": [
        "### What confidence level do we want our confidence interval to represent?\n",
        "\n",
        "95% confidence Interval? 99% confidence interval? "
      ]
    },
    {
      "cell_type": "code",
      "metadata": {
        "id": "pCAacGO8ToLK",
        "colab_type": "code",
        "outputId": "2f0cd1e1-5a10-47c3-b880-713fd48208aa",
        "colab": {
          "base_uri": "https://localhost:8080/",
          "height": 386
        }
      },
      "source": [
        "import scipy.stats as stats\n",
        "help(stats.t.ppf)"
      ],
      "execution_count": 0,
      "outputs": [
        {
          "output_type": "stream",
          "text": [
            "Help on method ppf in module scipy.stats._distn_infrastructure:\n",
            "\n",
            "ppf(q, *args, **kwds) method of scipy.stats._continuous_distns.t_gen instance\n",
            "    Percent point function (inverse of `cdf`) at q of the given RV.\n",
            "    \n",
            "    Parameters\n",
            "    ----------\n",
            "    q : array_like\n",
            "        lower tail probability\n",
            "    arg1, arg2, arg3,... : array_like\n",
            "        The shape parameter(s) for the distribution (see docstring of the\n",
            "        instance object for more information)\n",
            "    loc : array_like, optional\n",
            "        location parameter (default=0)\n",
            "    scale : array_like, optional\n",
            "        scale parameter (default=1)\n",
            "    \n",
            "    Returns\n",
            "    -------\n",
            "    x : array_like\n",
            "        quantile corresponding to the lower tail probability q.\n",
            "\n"
          ],
          "name": "stdout"
        }
      ]
    },
    {
      "cell_type": "code",
      "metadata": {
        "id": "jze1zJsewQx_",
        "colab_type": "code",
        "outputId": "082d2ec5-c859-4cd3-9cbb-97b45a9ddd09",
        "colab": {
          "base_uri": "https://localhost:8080/",
          "height": 34
        }
      },
      "source": [
        "t = stats.t.ppf(0.975, sample_size-1)\n",
        "t"
      ],
      "execution_count": 0,
      "outputs": [
        {
          "output_type": "execute_result",
          "data": {
            "text/plain": [
              "1.9602012636213575"
            ]
          },
          "metadata": {
            "tags": []
          },
          "execution_count": 80
        }
      ]
    },
    {
      "cell_type": "code",
      "metadata": {
        "id": "I3ItPUYMVawP",
        "colab_type": "code",
        "outputId": "86219fbf-77df-42ee-b4cc-fe01955703e1",
        "colab": {
          "base_uri": "https://localhost:8080/",
          "height": 67
        }
      },
      "source": [
        "sample_mean = coinflips_10000.mean()\n",
        "confidence_interval = (sample_mean - t*standard_error, sample_mean + t*standard_error)\n",
        "margin_of_error = t*standard_error\n",
        "\n",
        "print(\"Sample Mean: \", sample_mean)\n",
        "print(\"Margin of Error: \", margin_of_error)\n",
        "print(\"Confidence Interval: \", confidence_interval)"
      ],
      "execution_count": 0,
      "outputs": [
        {
          "output_type": "stream",
          "text": [
            "Sample Mean:  0.5006\n",
            "Margin of Error:  0.0098009992613797\n",
            "Confidence Interval:  (0.4907990007386204, 0.5104009992613797)\n"
          ],
          "name": "stdout"
        }
      ]
    },
    {
      "cell_type": "markdown",
      "metadata": {
        "id": "C4rtc8luVUAK",
        "colab_type": "text"
      },
      "source": [
        "## Graphically Represent a Confidence Interval"
      ]
    },
    {
      "cell_type": "code",
      "metadata": {
        "id": "pz6F9_3_VmKr",
        "colab_type": "code",
        "outputId": "a8a10f0c-b02f-46c7-dfb7-bbd5368d437b",
        "colab": {
          "base_uri": "https://localhost:8080/",
          "height": 286
        }
      },
      "source": [
        "import seaborn as sns\n",
        "\n",
        "sns.kdeplot(coinflips_10000)\n",
        "plt.axvline(x=sample_mean, color='k')\n",
        "plt.axvline(x=confidence_interval[0], color='r')\n",
        "plt.axvline(x=confidence_interval[1], color='r')"
      ],
      "execution_count": 0,
      "outputs": [
        {
          "output_type": "execute_result",
          "data": {
            "text/plain": [
              "<matplotlib.lines.Line2D at 0x7f9e530fad30>"
            ]
          },
          "metadata": {
            "tags": []
          },
          "execution_count": 82
        },
        {
          "output_type": "display_data",
          "data": {
            "image/png": "[encoded data removed]",
            "text/plain": [
              "<Figure size 432x288 with 1 Axes>"
            ]
          },
          "metadata": {
            "tags": []
          }
        }
      ]
    },
    {
      "cell_type": "markdown",
      "metadata": {
        "id": "_oy0uoBGeoEb",
        "colab_type": "text"
      },
      "source": [
        "## Relationship between Confidence Intervals and T-tests\n",
        "\n",
        "Confidence Interval == Bounds of statistical significance for our t-test\n",
        "\n",
        "A sample mean that falls inside of our confidence interval will \"FAIL TO REJECT\" our null hypothesis\n",
        "\n",
        "A sample mean that falls outside of our confidence interval will \"REJECT\" our null hypothesis"
      ]
    },
    {
      "cell_type": "code",
      "metadata": {
        "id": "izIyVavzfCXS",
        "colab_type": "code",
        "colab": {}
      },
      "source": [
        "from scipy.stats import t, ttest_1samp"
      ],
      "execution_count": 0,
      "outputs": []
    },
    {
      "cell_type": "code",
      "metadata": {
        "id": "Y7HwdMwDfL1N",
        "colab_type": "code",
        "outputId": "e7e6e3b1-5732-4873-c852-ef09c8f9dd13",
        "colab": {
          "base_uri": "https://localhost:8080/",
          "height": 54
        }
      },
      "source": [
        "import numpy as np\n",
        "\n",
        "coinflip_means = []\n",
        "for x in range(0,100):\n",
        "  coinflips = np.random.binomial(n=1, p=.5, size=30)\n",
        "  coinflip_means.append(coinflips.mean())\n",
        "\n",
        "print(coinflip_means)"
      ],
      "execution_count": 0,
      "outputs": [
        {
          "output_type": "stream",
          "text": [
            "[0.5333333333333333, 0.5333333333333333, 0.4666666666666667, 0.5, 0.4666666666666667, 0.5333333333333333, 0.5333333333333333, 0.6333333333333333, 0.43333333333333335, 0.6666666666666666, 0.4666666666666667, 0.43333333333333335, 0.5333333333333333, 0.6666666666666666, 0.43333333333333335, 0.4666666666666667, 0.5333333333333333, 0.4, 0.4666666666666667, 0.43333333333333335, 0.6, 0.6333333333333333, 0.6333333333333333, 0.5333333333333333, 0.6333333333333333, 0.3333333333333333, 0.5666666666666667, 0.5, 0.5333333333333333, 0.5, 0.5333333333333333, 0.6333333333333333, 0.4666666666666667, 0.6333333333333333, 0.5, 0.6, 0.5333333333333333, 0.3, 0.5333333333333333, 0.6333333333333333, 0.6, 0.5, 0.5, 0.5666666666666667, 0.4666666666666667, 0.5666666666666667, 0.5, 0.4666666666666667, 0.36666666666666664, 0.6, 0.6666666666666666, 0.3333333333333333, 0.4, 0.4666666666666667, 0.4666666666666667, 0.43333333333333335, 0.5333333333333333, 0.5, 0.5333333333333333, 0.6666666666666666, 0.5333333333333333, 0.36666666666666664, 0.36666666666666664, 0.3, 0.4666666666666667, 0.43333333333333335, 0.5333333333333333, 0.36666666666666664, 0.43333333333333335, 0.43333333333333335, 0.4, 0.6666666666666666, 0.7, 0.5666666666666667, 0.5, 0.26666666666666666, 0.4666666666666667, 0.43333333333333335, 0.5, 0.4666666666666667, 0.5333333333333333, 0.5333333333333333, 0.4, 0.7, 0.5333333333333333, 0.4666666666666667, 0.43333333333333335, 0.43333333333333335, 0.5333333333333333, 0.43333333333333335, 0.4, 0.4666666666666667, 0.6, 0.36666666666666664, 0.4666666666666667, 0.5, 0.4666666666666667, 0.4666666666666667, 0.5, 0.4666666666666667]\n"
          ],
          "name": "stdout"
        }
      ]
    },
    {
      "cell_type": "code",
      "metadata": {
        "id": "dWGpR712ZJbl",
        "colab_type": "code",
        "outputId": "db4d2ed2-0084-42ba-a5e4-26f499a7c66d",
        "colab": {
          "base_uri": "https://localhost:8080/",
          "height": 34
        }
      },
      "source": [
        "np.mean(coinflip_means)"
      ],
      "execution_count": 0,
      "outputs": [
        {
          "output_type": "execute_result",
          "data": {
            "text/plain": [
              "0.5000000000000001"
            ]
          },
          "metadata": {
            "tags": []
          },
          "execution_count": 94
        }
      ]
    },
    {
      "cell_type": "code",
      "metadata": {
        "id": "6R-wIiXXaI76",
        "colab_type": "code",
        "outputId": "ce17dfef-6b8b-4442-b206-467834f0749a",
        "colab": {
          "base_uri": "https://localhost:8080/",
          "height": 420
        }
      },
      "source": [
        "help(stats.t.interval)"
      ],
      "execution_count": 0,
      "outputs": [
        {
          "output_type": "stream",
          "text": [
            "Help on method interval in module scipy.stats._distn_infrastructure:\n",
            "\n",
            "interval(alpha, *args, **kwds) method of scipy.stats._continuous_distns.t_gen instance\n",
            "    Confidence interval with equal areas around the median.\n",
            "    \n",
            "    Parameters\n",
            "    ----------\n",
            "    alpha : array_like of float\n",
            "        Probability that an rv will be drawn from the returned range.\n",
            "        Each value should be in the range [0, 1].\n",
            "    arg1, arg2, ... : array_like\n",
            "        The shape parameter(s) for the distribution (see docstring of the\n",
            "        instance object for more information).\n",
            "    loc : array_like, optional\n",
            "        location parameter, Default is 0.\n",
            "    scale : array_like, optional\n",
            "        scale parameter, Default is 1.\n",
            "    \n",
            "    Returns\n",
            "    -------\n",
            "    a, b : ndarray of float\n",
            "        end-points of range that contain ``100 * alpha %`` of the rv's\n",
            "        possible values.\n",
            "\n"
          ],
          "name": "stdout"
        }
      ]
    },
    {
      "cell_type": "code",
      "metadata": {
        "id": "l4SE0_0nZomU",
        "colab_type": "code",
        "outputId": "6dc21ff2-5dba-4123-9678-d35a85769750",
        "colab": {
          "base_uri": "https://localhost:8080/",
          "height": 50
        }
      },
      "source": [
        "# 95% confidence interval\n",
        "t_stat = stats.t.ppf(0.975, 99)\n",
        "print('T Statistic: ', t_stat)\n",
        "\n",
        "std_sample = np.std(coinflip_means)\n",
        "std_err = std_sample/np.sqrt(len(coinflip_means))\n",
        "\n",
        "CI = stats.t.interval(0.95, 99, loc=np.mean(coinflip_means), scale=std_err)\n",
        "print('95% confidence interval:', CI)"
      ],
      "execution_count": 0,
      "outputs": [
        {
          "output_type": "stream",
          "text": [
            "T Statistic:  1.9842169515086827\n",
            "95% confidence interval: (0.4818625252375945, 0.5181374747624058)\n"
          ],
          "name": "stdout"
        }
      ]
    },
    {
      "cell_type": "markdown",
      "metadata": {
        "id": "EamZNJhAf-fY",
        "colab_type": "text"
      },
      "source": [
        "A null hypothesis that's just inside of our confidence interval == fail to reject\n",
        "\n"
      ]
    },
    {
      "cell_type": "code",
      "metadata": {
        "id": "cNpzYbjpfirR",
        "colab_type": "code",
        "outputId": "ad7ef8e3-7a0c-46a9-f809-a6755aa8ab8c",
        "colab": {
          "base_uri": "https://localhost:8080/",
          "height": 34
        }
      },
      "source": [
        "ttest_1samp(coinflip_means, 0.48186)"
      ],
      "execution_count": 0,
      "outputs": [
        {
          "output_type": "execute_result",
          "data": {
            "text/plain": [
              "Ttest_1sampResult(statistic=1.9745458123056203, pvalue=0.051105424274298865)"
            ]
          },
          "metadata": {
            "tags": []
          },
          "execution_count": 100
        }
      ]
    },
    {
      "cell_type": "markdown",
      "metadata": {
        "id": "hO34mbL9gHn1",
        "colab_type": "text"
      },
      "source": [
        "A null hypothesis that's just outside of our confidence interval == reject\n",
        "\n"
      ]
    },
    {
      "cell_type": "code",
      "metadata": {
        "id": "N4SUjj82gKlv",
        "colab_type": "code",
        "outputId": "1dfee841-70a3-4a68-99f3-ff45f8bda40b",
        "colab": {
          "base_uri": "https://localhost:8080/",
          "height": 34
        }
      },
      "source": [
        "ttest_1samp(coinflip_means, 0.51813)"
      ],
      "execution_count": 0,
      "outputs": [
        {
          "output_type": "execute_result",
          "data": {
            "text/plain": [
              "Ttest_1sampResult(statistic=-1.9734573085501894, pvalue=0.051231132740212654)"
            ]
          },
          "metadata": {
            "tags": []
          },
          "execution_count": 101
        }
      ]
    },
    {
      "cell_type": "code",
      "metadata": {
        "id": "rQZvNu6B3b9b",
        "colab_type": "code",
        "colab": {}
      },
      "source": [
        "def confidence_interval(data, confidence=0.95):\n",
        "  \"\"\"\n",
        "  Calculate a confidence interval around a sample mean for given data.\n",
        "  Using t-distribution and two-tailed test, default 95% confidence. \n",
        "  \n",
        "  Arguments:\n",
        "    data - iterable (list or numpy array) of sample observations\n",
        "    confidence - level of confidence for the interval\n",
        "  \n",
        "  Returns:\n",
        "    tuple of (mean, lower bound, upper bound)\n",
        "  \"\"\"\n",
        "  data = np.array(data)\n",
        "  mean = np.mean(data)\n",
        "  n = len(data)\n",
        "  stderr = stats.sem(data)\n",
        "  interval = stderr * stats.t.ppf((1 + confidence) / 2.0, n - 1)\n",
        "  return (mean, mean - interval, mean + interval)"
      ],
      "execution_count": 0,
      "outputs": []
    },
    {
      "cell_type": "markdown",
      "metadata": {
        "id": "pTIzrkKdUaLl",
        "colab_type": "text"
      },
      "source": [
        "## Run a $\\chi^{2}$ Test \"by hand\" (Using Numpy)"
      ]
    },
    {
      "cell_type": "code",
      "metadata": {
        "id": "DDsovHUyUj3v",
        "colab_type": "code",
        "outputId": "e8819550-fc23-420c-ff24-a3ee1266de44",
        "colab": {
          "base_uri": "https://localhost:8080/",
          "height": 313
        }
      },
      "source": [
        "df = pd.read_csv('https://raw.githubusercontent.com/ryanleeallred/datasets/master/adult.csv', na_values=\" ?\")\n",
        "print(df.shape)\n",
        "df.head()"
      ],
      "execution_count": 0,
      "outputs": [
        {
          "output_type": "stream",
          "text": [
            "(32561, 15)\n"
          ],
          "name": "stdout"
        },
        {
          "output_type": "execute_result",
          "data": {
            "text/html": [
              "<div>\n",
              "<style scoped>\n",
              "    .dataframe tbody tr th:only-of-type {\n",
              "        vertical-align: middle;\n",
              "    }\n",
              "\n",
              "    .dataframe tbody tr th {\n",
              "        vertical-align: top;\n",
              "    }\n",
              "\n",
              "    .dataframe thead th {\n",
              "        text-align: right;\n",
              "    }\n",
              "</style>\n",
              "<table border=\"1\" class=\"dataframe\">\n",
              "  <thead>\n",
              "    <tr style=\"text-align: right;\">\n",
              "      <th></th>\n",
              "      <th>age</th>\n",
              "      <th>workclass</th>\n",
              "      <th>fnlwgt</th>\n",
              "      <th>education</th>\n",
              "      <th>education-num</th>\n",
              "      <th>marital-status</th>\n",
              "      <th>occupation</th>\n",
              "      <th>relationship</th>\n",
              "      <th>race</th>\n",
              "      <th>sex</th>\n",
              "      <th>capital-gain</th>\n",
              "      <th>capital-loss</th>\n",
              "      <th>hours-per-week</th>\n",
              "      <th>country</th>\n",
              "      <th>salary</th>\n",
              "    </tr>\n",
              "  </thead>\n",
              "  <tbody>\n",
              "    <tr>\n",
              "      <th>0</th>\n",
              "      <td>39</td>\n",
              "      <td>State-gov</td>\n",
              "      <td>77516</td>\n",
              "      <td>Bachelors</td>\n",
              "      <td>13</td>\n",
              "      <td>Never-married</td>\n",
              "      <td>Adm-clerical</td>\n",
              "      <td>Not-in-family</td>\n",
              "      <td>White</td>\n",
              "      <td>Male</td>\n",
              "      <td>2174</td>\n",
              "      <td>0</td>\n",
              "      <td>40</td>\n",
              "      <td>United-States</td>\n",
              "      <td>&lt;=50K</td>\n",
              "    </tr>\n",
              "    <tr>\n",
              "      <th>1</th>\n",
              "      <td>50</td>\n",
              "      <td>Self-emp-not-inc</td>\n",
              "      <td>83311</td>\n",
              "      <td>Bachelors</td>\n",
              "      <td>13</td>\n",
              "      <td>Married-civ-spouse</td>\n",
              "      <td>Exec-managerial</td>\n",
              "      <td>Husband</td>\n",
              "      <td>White</td>\n",
              "      <td>Male</td>\n",
              "      <td>0</td>\n",
              "      <td>0</td>\n",
              "      <td>13</td>\n",
              "      <td>United-States</td>\n",
              "      <td>&lt;=50K</td>\n",
              "    </tr>\n",
              "    <tr>\n",
              "      <th>2</th>\n",
              "      <td>38</td>\n",
              "      <td>Private</td>\n",
              "      <td>215646</td>\n",
              "      <td>HS-grad</td>\n",
              "      <td>9</td>\n",
              "      <td>Divorced</td>\n",
              "      <td>Handlers-cleaners</td>\n",
              "      <td>Not-in-family</td>\n",
              "      <td>White</td>\n",
              "      <td>Male</td>\n",
              "      <td>0</td>\n",
              "      <td>0</td>\n",
              "      <td>40</td>\n",
              "      <td>United-States</td>\n",
              "      <td>&lt;=50K</td>\n",
              "    </tr>\n",
              "    <tr>\n",
              "      <th>3</th>\n",
              "      <td>53</td>\n",
              "      <td>Private</td>\n",
              "      <td>234721</td>\n",
              "      <td>11th</td>\n",
              "      <td>7</td>\n",
              "      <td>Married-civ-spouse</td>\n",
              "      <td>Handlers-cleaners</td>\n",
              "      <td>Husband</td>\n",
              "      <td>Black</td>\n",
              "      <td>Male</td>\n",
              "      <td>0</td>\n",
              "      <td>0</td>\n",
              "      <td>40</td>\n",
              "      <td>United-States</td>\n",
              "      <td>&lt;=50K</td>\n",
              "    </tr>\n",
              "    <tr>\n",
              "      <th>4</th>\n",
              "      <td>28</td>\n",
              "      <td>Private</td>\n",
              "      <td>338409</td>\n",
              "      <td>Bachelors</td>\n",
              "      <td>13</td>\n",
              "      <td>Married-civ-spouse</td>\n",
              "      <td>Prof-specialty</td>\n",
              "      <td>Wife</td>\n",
              "      <td>Black</td>\n",
              "      <td>Female</td>\n",
              "      <td>0</td>\n",
              "      <td>0</td>\n",
              "      <td>40</td>\n",
              "      <td>Cuba</td>\n",
              "      <td>&lt;=50K</td>\n",
              "    </tr>\n",
              "  </tbody>\n",
              "</table>\n",
              "</div>"
            ],
            "text/plain": [
              "   age          workclass  fnlwgt  ... hours-per-week         country  salary\n",
              "0   39          State-gov   77516  ...             40   United-States   <=50K\n",
              "1   50   Self-emp-not-inc   83311  ...             13   United-States   <=50K\n",
              "2   38            Private  215646  ...             40   United-States   <=50K\n",
              "3   53            Private  234721  ...             40   United-States   <=50K\n",
              "4   28            Private  338409  ...             40            Cuba   <=50K\n",
              "\n",
              "[5 rows x 15 columns]"
            ]
          },
          "metadata": {
            "tags": []
          },
          "execution_count": 103
        }
      ]
    },
    {
      "cell_type": "code",
      "metadata": {
        "id": "aXwXmi1bdawm",
        "colab_type": "code",
        "outputId": "aa1f6f79-3cac-4998-964d-d8620ac75f4a",
        "colab": {
          "base_uri": "https://localhost:8080/",
          "height": 269
        }
      },
      "source": [
        "df['hours-per-week'].hist(bins=20);"
      ],
      "execution_count": 0,
      "outputs": [
        {
          "output_type": "display_data",
          "data": {
            "image/png": "[encoded data removed]",
            "text/plain": [
              "<Figure size 432x288 with 1 Axes>"
            ]
          },
          "metadata": {
            "tags": []
          }
        }
      ]
    },
    {
      "cell_type": "code",
      "metadata": {
        "id": "eWSgZMKKcLRx",
        "colab_type": "code",
        "outputId": "347d1260-06ae-4292-858a-517a73fd7962",
        "colab": {
          "base_uri": "https://localhost:8080/",
          "height": 166
        }
      },
      "source": [
        "df.describe(exclude='number')"
      ],
      "execution_count": 0,
      "outputs": [
        {
          "output_type": "execute_result",
          "data": {
            "text/html": [
              "<div>\n",
              "<style scoped>\n",
              "    .dataframe tbody tr th:only-of-type {\n",
              "        vertical-align: middle;\n",
              "    }\n",
              "\n",
              "    .dataframe tbody tr th {\n",
              "        vertical-align: top;\n",
              "    }\n",
              "\n",
              "    .dataframe thead th {\n",
              "        text-align: right;\n",
              "    }\n",
              "</style>\n",
              "<table border=\"1\" class=\"dataframe\">\n",
              "  <thead>\n",
              "    <tr style=\"text-align: right;\">\n",
              "      <th></th>\n",
              "      <th>workclass</th>\n",
              "      <th>education</th>\n",
              "      <th>marital-status</th>\n",
              "      <th>occupation</th>\n",
              "      <th>relationship</th>\n",
              "      <th>race</th>\n",
              "      <th>sex</th>\n",
              "      <th>country</th>\n",
              "      <th>salary</th>\n",
              "    </tr>\n",
              "  </thead>\n",
              "  <tbody>\n",
              "    <tr>\n",
              "      <th>count</th>\n",
              "      <td>30725</td>\n",
              "      <td>32561</td>\n",
              "      <td>32561</td>\n",
              "      <td>30718</td>\n",
              "      <td>32561</td>\n",
              "      <td>32561</td>\n",
              "      <td>32561</td>\n",
              "      <td>31978</td>\n",
              "      <td>32561</td>\n",
              "    </tr>\n",
              "    <tr>\n",
              "      <th>unique</th>\n",
              "      <td>8</td>\n",
              "      <td>16</td>\n",
              "      <td>7</td>\n",
              "      <td>14</td>\n",
              "      <td>6</td>\n",
              "      <td>5</td>\n",
              "      <td>2</td>\n",
              "      <td>41</td>\n",
              "      <td>2</td>\n",
              "    </tr>\n",
              "    <tr>\n",
              "      <th>top</th>\n",
              "      <td>Private</td>\n",
              "      <td>HS-grad</td>\n",
              "      <td>Married-civ-spouse</td>\n",
              "      <td>Prof-specialty</td>\n",
              "      <td>Husband</td>\n",
              "      <td>White</td>\n",
              "      <td>Male</td>\n",
              "      <td>United-States</td>\n",
              "      <td>&lt;=50K</td>\n",
              "    </tr>\n",
              "    <tr>\n",
              "      <th>freq</th>\n",
              "      <td>22696</td>\n",
              "      <td>10501</td>\n",
              "      <td>14976</td>\n",
              "      <td>4140</td>\n",
              "      <td>13193</td>\n",
              "      <td>27816</td>\n",
              "      <td>21790</td>\n",
              "      <td>29170</td>\n",
              "      <td>24720</td>\n",
              "    </tr>\n",
              "  </tbody>\n",
              "</table>\n",
              "</div>"
            ],
            "text/plain": [
              "       workclass education       marital-status  ...    sex         country  salary\n",
              "count      30725     32561                32561  ...  32561           31978   32561\n",
              "unique         8        16                    7  ...      2              41       2\n",
              "top      Private   HS-grad   Married-civ-spouse  ...   Male   United-States   <=50K\n",
              "freq       22696     10501                14976  ...  21790           29170   24720\n",
              "\n",
              "[4 rows x 9 columns]"
            ]
          },
          "metadata": {
            "tags": []
          },
          "execution_count": 107
        }
      ]
    },
    {
      "cell_type": "code",
      "metadata": {
        "id": "ijwOlJpMdVcc",
        "colab_type": "code",
        "outputId": "148b063d-1341-4399-e0cd-4a6da6ab4418",
        "colab": {
          "base_uri": "https://localhost:8080/",
          "height": 134
        }
      },
      "source": [
        "cut_points = [0, 9, 19, 29, 39, 49, 500]\n",
        "label_names = ['0-9','10-19','20-29','30-39','40-49','50+']\n",
        "df['hours_per_week_categories'] = pd.cut(df['hours-per-week'], cut_points, labels=label_names)\n",
        "df.hours_per_week_categories.value_counts()"
      ],
      "execution_count": 0,
      "outputs": [
        {
          "output_type": "execute_result",
          "data": {
            "text/plain": [
              "40-49    18336\n",
              "50+       6462\n",
              "30-39     3667\n",
              "20-29     2392\n",
              "10-19     1246\n",
              "0-9        458\n",
              "Name: hours_per_week_categories, dtype: int64"
            ]
          },
          "metadata": {
            "tags": []
          },
          "execution_count": 110
        }
      ]
    },
    {
      "cell_type": "code",
      "metadata": {
        "id": "8qZ9MnhieeDe",
        "colab_type": "code",
        "outputId": "3a07d63c-2184-4e52-eb9f-7553ea41665e",
        "colab": {
          "base_uri": "https://localhost:8080/",
          "height": 67
        }
      },
      "source": [
        "df.sex.value_counts()"
      ],
      "execution_count": 0,
      "outputs": [
        {
          "output_type": "execute_result",
          "data": {
            "text/plain": [
              " Male      21790\n",
              " Female    10771\n",
              "Name: sex, dtype: int64"
            ]
          },
          "metadata": {
            "tags": []
          },
          "execution_count": 112
        }
      ]
    },
    {
      "cell_type": "code",
      "metadata": {
        "id": "ICcAkcAJejvG",
        "colab_type": "code",
        "outputId": "da23ef5c-c3aa-4adf-fe4b-1fc391e4680a",
        "colab": {
          "base_uri": "https://localhost:8080/",
          "height": 166
        }
      },
      "source": [
        "df = df.sort_values(by='hours_per_week_categories')\n",
        "contingency_table = pd.crosstab(df['sex'], df['hours_per_week_categories'], margins=True)\n",
        "contingency_table"
      ],
      "execution_count": 0,
      "outputs": [
        {
          "output_type": "execute_result",
          "data": {
            "text/html": [
              "<div>\n",
              "<style scoped>\n",
              "    .dataframe tbody tr th:only-of-type {\n",
              "        vertical-align: middle;\n",
              "    }\n",
              "\n",
              "    .dataframe tbody tr th {\n",
              "        vertical-align: top;\n",
              "    }\n",
              "\n",
              "    .dataframe thead th {\n",
              "        text-align: right;\n",
              "    }\n",
              "</style>\n",
              "<table border=\"1\" class=\"dataframe\">\n",
              "  <thead>\n",
              "    <tr style=\"text-align: right;\">\n",
              "      <th>hours_per_week_categories</th>\n",
              "      <th>0-9</th>\n",
              "      <th>10-19</th>\n",
              "      <th>20-29</th>\n",
              "      <th>30-39</th>\n",
              "      <th>40-49</th>\n",
              "      <th>50+</th>\n",
              "      <th>All</th>\n",
              "    </tr>\n",
              "    <tr>\n",
              "      <th>sex</th>\n",
              "      <th></th>\n",
              "      <th></th>\n",
              "      <th></th>\n",
              "      <th></th>\n",
              "      <th></th>\n",
              "      <th></th>\n",
              "      <th></th>\n",
              "    </tr>\n",
              "  </thead>\n",
              "  <tbody>\n",
              "    <tr>\n",
              "      <th>Female</th>\n",
              "      <td>235</td>\n",
              "      <td>671</td>\n",
              "      <td>1287</td>\n",
              "      <td>1914</td>\n",
              "      <td>5636</td>\n",
              "      <td>1028</td>\n",
              "      <td>10771</td>\n",
              "    </tr>\n",
              "    <tr>\n",
              "      <th>Male</th>\n",
              "      <td>223</td>\n",
              "      <td>575</td>\n",
              "      <td>1105</td>\n",
              "      <td>1753</td>\n",
              "      <td>12700</td>\n",
              "      <td>5434</td>\n",
              "      <td>21790</td>\n",
              "    </tr>\n",
              "    <tr>\n",
              "      <th>All</th>\n",
              "      <td>458</td>\n",
              "      <td>1246</td>\n",
              "      <td>2392</td>\n",
              "      <td>3667</td>\n",
              "      <td>18336</td>\n",
              "      <td>6462</td>\n",
              "      <td>32561</td>\n",
              "    </tr>\n",
              "  </tbody>\n",
              "</table>\n",
              "</div>"
            ],
            "text/plain": [
              "hours_per_week_categories  0-9  10-19  20-29  30-39  40-49   50+    All\n",
              "sex                                                                    \n",
              " Female                    235    671   1287   1914   5636  1028  10771\n",
              " Male                      223    575   1105   1753  12700  5434  21790\n",
              "All                        458   1246   2392   3667  18336  6462  32561"
            ]
          },
          "metadata": {
            "tags": []
          },
          "execution_count": 120
        }
      ]
    },
    {
      "cell_type": "markdown",
      "metadata": {
        "id": "uyw_hby7-OHF",
        "colab_type": "text"
      },
      "source": [
        "## Expected Value Calculation\n",
        "\\begin{align}\n",
        "expected_{i,j} =\\frac{(row_{i} \\text{total})(column_{j} \\text{total}) }{(\\text{total observations})}  \n",
        "\\end{align}"
      ]
    },
    {
      "cell_type": "code",
      "metadata": {
        "id": "C11nWaal-acY",
        "colab_type": "code",
        "outputId": "068f76fa-56c8-4845-a709-1245dd1fb74c",
        "colab": {
          "base_uri": "https://localhost:8080/",
          "height": 50
        }
      },
      "source": [
        "row_sums = contingency_table.iloc[0:2, 6].values\n",
        "col_sums = contingency_table.iloc[2, 0:6].values\n",
        "\n",
        "print(row_sums)\n",
        "print(col_sums)"
      ],
      "execution_count": 0,
      "outputs": [
        {
          "output_type": "stream",
          "text": [
            "[10771 21790]\n",
            "[  458  1246  2392  3667 18336  6462]\n"
          ],
          "name": "stdout"
        }
      ]
    },
    {
      "cell_type": "code",
      "metadata": {
        "id": "YTEj8BeHgXV8",
        "colab_type": "code",
        "outputId": "1289ba11-368c-4054-a046-ce1c67ef0c1e",
        "colab": {
          "base_uri": "https://localhost:8080/",
          "height": 34
        }
      },
      "source": [
        "total = contingency_table.loc['All','All']\n",
        "total"
      ],
      "execution_count": 0,
      "outputs": [
        {
          "output_type": "execute_result",
          "data": {
            "text/plain": [
              "32561"
            ]
          },
          "metadata": {
            "tags": []
          },
          "execution_count": 123
        }
      ]
    },
    {
      "cell_type": "code",
      "metadata": {
        "id": "Px1hiusMgpG7",
        "colab_type": "code",
        "outputId": "627d7f61-d4de-44e2-b7eb-3a44e0a6cb12",
        "colab": {
          "base_uri": "https://localhost:8080/",
          "height": 101
        }
      },
      "source": [
        "expected = []\n",
        "for i in range(len(row_sums)):\n",
        "  expected_row = []\n",
        "  for column in col_sums:\n",
        "    expected_val = column*row_sums[i]/total\n",
        "    expected_row.append(expected_val)\n",
        "  expected.append(expected_row)\n",
        "  \n",
        "expected = np.array(expected)\n",
        "print(expected.shape)\n",
        "print(expected)"
      ],
      "execution_count": 0,
      "outputs": [
        {
          "output_type": "stream",
          "text": [
            "(2, 6)\n",
            "[[  151.50388502   412.16995793   791.26046497  1213.02346365\n",
            "   6065.44811277  2137.59411566]\n",
            " [  306.49611498   833.83004207  1600.73953503  2453.97653635\n",
            "  12270.55188723  4324.40588434]]\n"
          ],
          "name": "stdout"
        }
      ]
    },
    {
      "cell_type": "markdown",
      "metadata": {
        "id": "R6AWydhG_P4s",
        "colab_type": "text"
      },
      "source": [
        "## Chi-Squared Statistic with Numpy\n",
        "\n",
        "\\begin{align}\n",
        "\\chi^2 = \\sum \\frac{(observed_{i}-expected_{i})^2}{(expected_{i})}\n",
        "\\end{align}\n",
        "\n",
        "For the $observed$ values we will just use a version of our contingency table without the margins as a numpy array. In this way, if our observed values array and our expected values array are the same shape, then we can subtract them and divide them directly which makes the calculations a lot cleaner. No for loops!"
      ]
    },
    {
      "cell_type": "code",
      "metadata": {
        "id": "fUMKMBDNhhiF",
        "colab_type": "code",
        "outputId": "7fdb8534-0e92-4770-a352-1349be6c0b3c",
        "colab": {
          "base_uri": "https://localhost:8080/",
          "height": 67
        }
      },
      "source": [
        "observed = pd.crosstab(df['sex'], df['hours_per_week_categories']).values\n",
        "print(observed.shape)\n",
        "observed"
      ],
      "execution_count": 0,
      "outputs": [
        {
          "output_type": "stream",
          "text": [
            "(2, 6)\n"
          ],
          "name": "stdout"
        },
        {
          "output_type": "execute_result",
          "data": {
            "text/plain": [
              "array([[  235,   671,  1287,  1914,  5636,  1028],\n",
              "       [  223,   575,  1105,  1753, 12700,  5434]])"
            ]
          },
          "metadata": {
            "tags": []
          },
          "execution_count": 127
        }
      ]
    },
    {
      "cell_type": "code",
      "metadata": {
        "id": "o7YgaNij_cSo",
        "colab_type": "code",
        "outputId": "94118400-1b9c-4201-f6f0-b83003d92232",
        "colab": {
          "base_uri": "https://localhost:8080/",
          "height": 34
        }
      },
      "source": [
        "chi_square = ((observed - expected)**2/(expected)).sum()\n",
        "chi_square"
      ],
      "execution_count": 0,
      "outputs": [
        {
          "output_type": "execute_result",
          "data": {
            "text/plain": [
              "2287.190943926107"
            ]
          },
          "metadata": {
            "tags": []
          },
          "execution_count": 129
        }
      ]
    },
    {
      "cell_type": "markdown",
      "metadata": {
        "id": "7Igz-XHcVbW3",
        "colab_type": "text"
      },
      "source": [
        "## Run a $\\chi^{2}$ Test using Scipy"
      ]
    },
    {
      "cell_type": "code",
      "metadata": {
        "id": "kazgId8L9tYZ",
        "colab_type": "code",
        "outputId": "e0d32b86-99b4-44a3-c420-7a0e7ffc3d6c",
        "colab": {
          "base_uri": "https://localhost:8080/",
          "height": 1000
        }
      },
      "source": [
        "help(stats.chi2_contingency)"
      ],
      "execution_count": 0,
      "outputs": [
        {
          "output_type": "stream",
          "text": [
            "Help on function chi2_contingency in module scipy.stats.contingency:\n",
            "\n",
            "chi2_contingency(observed, correction=True, lambda_=None)\n",
            "    Chi-square test of independence of variables in a contingency table.\n",
            "    \n",
            "    This function computes the chi-square statistic and p-value for the\n",
            "    hypothesis test of independence of the observed frequencies in the\n",
            "    contingency table [1]_ `observed`.  The expected frequencies are computed\n",
            "    based on the marginal sums under the assumption of independence; see\n",
            "    `scipy.stats.contingency.expected_freq`.  The number of degrees of\n",
            "    freedom is (expressed using numpy functions and attributes)::\n",
            "    \n",
            "        dof = observed.size - sum(observed.shape) + observed.ndim - 1\n",
            "    \n",
            "    \n",
            "    Parameters\n",
            "    ----------\n",
            "    observed : array_like\n",
            "        The contingency table. The table contains the observed frequencies\n",
            "        (i.e. number of occurrences) in each category.  In the two-dimensional\n",
            "        case, the table is often described as an \"R x C table\".\n",
            "    correction : bool, optional\n",
            "        If True, *and* the degrees of freedom is 1, apply Yates' correction\n",
            "        for continuity.  The effect of the correction is to adjust each\n",
            "        observed value by 0.5 towards the corresponding expected value.\n",
            "    lambda_ : float or str, optional.\n",
            "        By default, the statistic computed in this test is Pearson's\n",
            "        chi-squared statistic [2]_.  `lambda_` allows a statistic from the\n",
            "        Cressie-Read power divergence family [3]_ to be used instead.  See\n",
            "        `power_divergence` for details.\n",
            "    \n",
            "    Returns\n",
            "    -------\n",
            "    chi2 : float\n",
            "        The test statistic.\n",
            "    p : float\n",
            "        The p-value of the test\n",
            "    dof : int\n",
            "        Degrees of freedom\n",
            "    expected : ndarray, same shape as `observed`\n",
            "        The expected frequencies, based on the marginal sums of the table.\n",
            "    \n",
            "    See Also\n",
            "    --------\n",
            "    contingency.expected_freq\n",
            "    fisher_exact\n",
            "    chisquare\n",
            "    power_divergence\n",
            "    \n",
            "    Notes\n",
            "    -----\n",
            "    An often quoted guideline for the validity of this calculation is that\n",
            "    the test should be used only if the observed and expected frequencies\n",
            "    in each cell are at least 5.\n",
            "    \n",
            "    This is a test for the independence of different categories of a\n",
            "    population. The test is only meaningful when the dimension of\n",
            "    `observed` is two or more.  Applying the test to a one-dimensional\n",
            "    table will always result in `expected` equal to `observed` and a\n",
            "    chi-square statistic equal to 0.\n",
            "    \n",
            "    This function does not handle masked arrays, because the calculation\n",
            "    does not make sense with missing values.\n",
            "    \n",
            "    Like stats.chisquare, this function computes a chi-square statistic;\n",
            "    the convenience this function provides is to figure out the expected\n",
            "    frequencies and degrees of freedom from the given contingency table.\n",
            "    If these were already known, and if the Yates' correction was not\n",
            "    required, one could use stats.chisquare.  That is, if one calls::\n",
            "    \n",
            "        chi2, p, dof, ex = chi2_contingency(obs, correction=False)\n",
            "    \n",
            "    then the following is true::\n",
            "    \n",
            "        (chi2, p) == stats.chisquare(obs.ravel(), f_exp=ex.ravel(),\n",
            "                                     ddof=obs.size - 1 - dof)\n",
            "    \n",
            "    The `lambda_` argument was added in version 0.13.0 of scipy.\n",
            "    \n",
            "    References\n",
            "    ----------\n",
            "    .. [1] \"Contingency table\",\n",
            "           https://en.wikipedia.org/wiki/Contingency_table\n",
            "    .. [2] \"Pearson's chi-squared test\",\n",
            "           https://en.wikipedia.org/wiki/Pearson%27s_chi-squared_test\n",
            "    .. [3] Cressie, N. and Read, T. R. C., \"Multinomial Goodness-of-Fit\n",
            "           Tests\", J. Royal Stat. Soc. Series B, Vol. 46, No. 3 (1984),\n",
            "           pp. 440-464.\n",
            "    \n",
            "    Examples\n",
            "    --------\n",
            "    A two-way example (2 x 3):\n",
            "    \n",
            "    >>> from scipy.stats import chi2_contingency\n",
            "    >>> obs = np.array([[10, 10, 20], [20, 20, 20]])\n",
            "    >>> chi2_contingency(obs)\n",
            "    (2.7777777777777777,\n",
            "     0.24935220877729619,\n",
            "     2,\n",
            "     array([[ 12.,  12.,  16.],\n",
            "            [ 18.,  18.,  24.]]))\n",
            "    \n",
            "    Perform the test using the log-likelihood ratio (i.e. the \"G-test\")\n",
            "    instead of Pearson's chi-squared statistic.\n",
            "    \n",
            "    >>> g, p, dof, expctd = chi2_contingency(obs, lambda_=\"log-likelihood\")\n",
            "    >>> g, p\n",
            "    (2.7688587616781319, 0.25046668010954165)\n",
            "    \n",
            "    A four-way example (2 x 2 x 2 x 2):\n",
            "    \n",
            "    >>> obs = np.array(\n",
            "    ...     [[[[12, 17],\n",
            "    ...        [11, 16]],\n",
            "    ...       [[11, 12],\n",
            "    ...        [15, 16]]],\n",
            "    ...      [[[23, 15],\n",
            "    ...        [30, 22]],\n",
            "    ...       [[14, 17],\n",
            "    ...        [15, 16]]]])\n",
            "    >>> chi2_contingency(obs)\n",
            "    (8.7584514426741897,\n",
            "     0.64417725029295503,\n",
            "     11,\n",
            "     array([[[[ 14.15462386,  14.15462386],\n",
            "              [ 16.49423111,  16.49423111]],\n",
            "             [[ 11.2461395 ,  11.2461395 ],\n",
            "              [ 13.10500554,  13.10500554]]],\n",
            "            [[[ 19.5591166 ,  19.5591166 ],\n",
            "              [ 22.79202844,  22.79202844]],\n",
            "             [[ 15.54012004,  15.54012004],\n",
            "              [ 18.10873492,  18.10873492]]]]))\n",
            "\n"
          ],
          "name": "stdout"
        }
      ]
    },
    {
      "cell_type": "code",
      "metadata": {
        "id": "HtzWU6I5iVyz",
        "colab_type": "code",
        "outputId": "80292c7f-ffe3-4e4d-cac2-5565c2440211",
        "colab": {
          "base_uri": "https://localhost:8080/",
          "height": 84
        }
      },
      "source": [
        "chi_squared, p_value, dof, expected = stats.chi2_contingency(observed)\n",
        "print(chi_squared, p_value, dof, expected)"
      ],
      "execution_count": 0,
      "outputs": [
        {
          "output_type": "stream",
          "text": [
            "2287.190943926107 0.0 5 [[  151.50388502   412.16995793   791.26046497  1213.02346365\n",
            "   6065.44811277  2137.59411566]\n",
            " [  306.49611498   833.83004207  1600.73953503  2453.97653635\n",
            "  12270.55188723  4324.40588434]]\n"
          ],
          "name": "stdout"
        }
      ]
    },
    {
      "cell_type": "markdown",
      "metadata": {
        "id": "TRtBEP3rA307",
        "colab_type": "text"
      },
      "source": [
        "Null Hypothesis: Hours worked per week bins is **independent** of sex. \n",
        "\n",
        "Due to a p-value of 0, we REJECT the null hypothesis that hours worked per week and sex are independent, and conclude that there is an association between hours worked per week and sex. "
      ]
    },
    {
      "cell_type": "markdown",
      "metadata": {
        "id": "11OzdxWTM7UR",
        "colab_type": "text"
      },
      "source": [
        "## Assignment - Build a confidence interval\n",
        "\n",
        "A confidence interval refers to a neighborhood around some point estimate, the size of which is determined by the desired p-value. For instance, we might say that 52% of Americans prefer tacos to burritos, with a 95% confidence interval of +/- 5%.\n",
        "\n",
        "52% (0.52) is the point estimate, and +/- 5% (the interval $[0.47, 0.57]$) is the confidence interval. \"95% confidence\" means a p-value $\\leq 1 - 0.95 = 0.05$.\n",
        "\n",
        "In this case, the confidence interval includes $0.5$ - which is the natural null hypothesis (that half of Americans prefer tacos and half burritos, thus there is no clear favorite). So in this case, we could use the confidence interval to report that we've failed to reject the null hypothesis.\n",
        "\n",
        "But providing the full analysis with a confidence interval, including a graphical representation of it, can be a helpful and powerful way to tell your story. Done well, it is also more intuitive to a layperson than simply saying \"fail to reject the null hypothesis\" - it shows that in fact the data does *not* give a single clear result (the point estimate) but a whole range of possibilities.\n",
        "\n",
        "How is a confidence interval built, and how should it be interpreted? It does *not* mean that 95% of the data lies in that interval - instead, the frequentist interpretation is \"if we were to repeat this experiment 100 times, we would expect the average result to lie in this interval ~95 times.\"\n",
        "\n",
        "For a 95% confidence interval and a normal(-ish) distribution, you can simply remember that +/-2 standard deviations contains 95% of the probability mass, and so the 95% confidence interval based on a given sample is centered at the mean (point estimate) and has a range of +/- 2 (or technically 1.96) standard deviations.\n",
        "\n",
        "Different distributions/assumptions (90% confidence, 99% confidence) will require different math, but the overall process and interpretation (with a frequentist approach) will be the same.\n",
        "\n",
        "Your assignment - using the data from the prior module ([congressional voting records](https://archive.ics.uci.edu/ml/datasets/Congressional+Voting+Records)):\n",
        "\n",
        "\n",
        "### Confidence Intervals:\n",
        "1. Generate and numerically represent a confidence interval\n",
        "2. Graphically (with a plot) represent the confidence interval\n",
        "3. Interpret the confidence interval - what does it tell you about the data and its distribution?\n",
        "\n",
        "### Chi-squared tests:\n",
        "4. Take a dataset that we have used in the past in class that has **categorical** variables. Pick two of those categorical variables and run a chi-squared tests on that data\n",
        "  - By hand using Numpy\n",
        "  - In a single line using Scipy\n",
        "\n",
        "Stretch goals:\n",
        "\n",
        "1. Write a summary of your findings, mixing prose and math/code/results. *Note* - yes, this is by definition a political topic. It is challenging but important to keep your writing voice *neutral* and stick to the facts of the data. Data science often involves considering controversial issues, so it's important to be sensitive about them (especially if you want to publish).\n",
        "2. Apply the techniques you learned today to your project data or other data of your choice, and write/discuss your findings here.\n",
        "3. Refactor your code so it is elegant, readable, and can be easily run for all issues."
      ]
    },
    {
      "cell_type": "code",
      "metadata": {
        "id": "Ckcr4A4FM7cs",
        "colab_type": "code",
        "colab": {}
      },
      "source": [
        "# TODO - your code!"
      ],
      "execution_count": 0,
      "outputs": []
    },
    {
      "cell_type": "markdown",
      "metadata": {
        "id": "nyJ3ySr7R2k9",
        "colab_type": "text"
      },
      "source": [
        "## Resources\n",
        "\n",
        "- [Interactive visualize the Chi-Squared test](https://homepage.divms.uiowa.edu/~mbognar/applets/chisq.html)\n",
        "- [Calculation of Chi-Squared test statistic](https://en.wikipedia.org/wiki/Pearson%27s_chi-squared_test)\n",
        "- [Visualization of a confidence interval generated by R code](https://commons.wikimedia.org/wiki/File:Confidence-interval.svg)\n",
        "- [Expected value of a squared standard normal](https://math.stackexchange.com/questions/264061/expected-value-calculation-for-squared-normal-distribution) (it's 1 - which is why the expected value of a Chi-Squared with $n$ degrees of freedom is $n$, as it's the sum of $n$ squared standard normals)"
      ]
    }
  ]
}